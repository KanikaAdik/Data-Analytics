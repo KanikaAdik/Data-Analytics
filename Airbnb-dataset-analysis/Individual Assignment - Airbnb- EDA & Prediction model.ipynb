{
 "cells": [
  {
   "cell_type": "code",
   "execution_count": 1,
   "id": "6160cb7e",
   "metadata": {},
   "outputs": [],
   "source": [
    "from IPython.core.interactiveshell import InteractiveShell\n",
    "InteractiveShell.ast_node_interactivity = \"all\""
   ]
  },
  {
   "cell_type": "code",
   "execution_count": 2,
   "id": "cb199fa6",
   "metadata": {},
   "outputs": [],
   "source": [
    "#importing required libraries\n",
    "import pandas as pd\n",
    "import numpy as np\n",
    "import seaborn as sns\n",
    "from matplotlib import pyplot as plt\n",
    "import scipy.stats as stats"
   ]
  },
  {
   "cell_type": "code",
   "execution_count": 3,
   "id": "c7a0ab14",
   "metadata": {},
   "outputs": [],
   "source": [
    "#Import Data\n",
    "df = pd.read_csv(\"listings.csv\")"
   ]
  },
  {
   "cell_type": "markdown",
   "id": "92955f68",
   "metadata": {},
   "source": [
    "# Data Analysis"
   ]
  },
  {
   "cell_type": "code",
   "execution_count": 4,
   "id": "0f35ecbc",
   "metadata": {},
   "outputs": [
    {
     "data": {
      "text/html": [
       "<div>\n",
       "<style scoped>\n",
       "    .dataframe tbody tr th:only-of-type {\n",
       "        vertical-align: middle;\n",
       "    }\n",
       "\n",
       "    .dataframe tbody tr th {\n",
       "        vertical-align: top;\n",
       "    }\n",
       "\n",
       "    .dataframe thead th {\n",
       "        text-align: right;\n",
       "    }\n",
       "</style>\n",
       "<table border=\"1\" class=\"dataframe\">\n",
       "  <thead>\n",
       "    <tr style=\"text-align: right;\">\n",
       "      <th></th>\n",
       "      <th>id</th>\n",
       "      <th>host_name</th>\n",
       "      <th>host_since</th>\n",
       "      <th>host_response_time</th>\n",
       "      <th>host_response_rate</th>\n",
       "      <th>host_acceptance_rate</th>\n",
       "      <th>host_is_superhost</th>\n",
       "      <th>host_total_listings_count</th>\n",
       "      <th>host_has_profile_pic</th>\n",
       "      <th>host_identity_verified</th>\n",
       "      <th>...</th>\n",
       "      <th>price</th>\n",
       "      <th>review_scores_rating</th>\n",
       "      <th>review_scores_accuracy</th>\n",
       "      <th>review_scores_cleanliness</th>\n",
       "      <th>review_scores_checkin</th>\n",
       "      <th>review_scores_communication</th>\n",
       "      <th>review_scores_location</th>\n",
       "      <th>review_scores_value</th>\n",
       "      <th>instant_bookable</th>\n",
       "      <th>reviews_per_month</th>\n",
       "    </tr>\n",
       "  </thead>\n",
       "  <tbody>\n",
       "    <tr>\n",
       "      <th>0</th>\n",
       "      <td>15965441</td>\n",
       "      <td>José</td>\n",
       "      <td>11/14/16</td>\n",
       "      <td>within an hour</td>\n",
       "      <td>83%</td>\n",
       "      <td>0%</td>\n",
       "      <td>f</td>\n",
       "      <td>3.0</td>\n",
       "      <td>t</td>\n",
       "      <td>t</td>\n",
       "      <td>...</td>\n",
       "      <td>$150.00</td>\n",
       "      <td>NaN</td>\n",
       "      <td>NaN</td>\n",
       "      <td>NaN</td>\n",
       "      <td>NaN</td>\n",
       "      <td>NaN</td>\n",
       "      <td>NaN</td>\n",
       "      <td>NaN</td>\n",
       "      <td>f</td>\n",
       "      <td>NaN</td>\n",
       "    </tr>\n",
       "    <tr>\n",
       "      <th>1</th>\n",
       "      <td>47908784</td>\n",
       "      <td>Raquel</td>\n",
       "      <td>7/15/16</td>\n",
       "      <td>within a day</td>\n",
       "      <td>50%</td>\n",
       "      <td>100%</td>\n",
       "      <td>f</td>\n",
       "      <td>1.0</td>\n",
       "      <td>t</td>\n",
       "      <td>f</td>\n",
       "      <td>...</td>\n",
       "      <td>$450.00</td>\n",
       "      <td>NaN</td>\n",
       "      <td>NaN</td>\n",
       "      <td>NaN</td>\n",
       "      <td>NaN</td>\n",
       "      <td>NaN</td>\n",
       "      <td>NaN</td>\n",
       "      <td>NaN</td>\n",
       "      <td>f</td>\n",
       "      <td>NaN</td>\n",
       "    </tr>\n",
       "    <tr>\n",
       "      <th>2</th>\n",
       "      <td>52239613</td>\n",
       "      <td>Fabio</td>\n",
       "      <td>9/13/21</td>\n",
       "      <td>within a day</td>\n",
       "      <td>100%</td>\n",
       "      <td>89%</td>\n",
       "      <td>f</td>\n",
       "      <td>0.0</td>\n",
       "      <td>t</td>\n",
       "      <td>f</td>\n",
       "      <td>...</td>\n",
       "      <td>$350.00</td>\n",
       "      <td>5.00</td>\n",
       "      <td>5.00</td>\n",
       "      <td>5.00</td>\n",
       "      <td>4.89</td>\n",
       "      <td>4.78</td>\n",
       "      <td>4.78</td>\n",
       "      <td>4.89</td>\n",
       "      <td>f</td>\n",
       "      <td>1.16</td>\n",
       "    </tr>\n",
       "    <tr>\n",
       "      <th>3</th>\n",
       "      <td>10445855</td>\n",
       "      <td>Márcio</td>\n",
       "      <td>1/24/12</td>\n",
       "      <td>within an hour</td>\n",
       "      <td>100%</td>\n",
       "      <td>100%</td>\n",
       "      <td>f</td>\n",
       "      <td>2.0</td>\n",
       "      <td>t</td>\n",
       "      <td>t</td>\n",
       "      <td>...</td>\n",
       "      <td>$145.00</td>\n",
       "      <td>4.78</td>\n",
       "      <td>4.91</td>\n",
       "      <td>4.89</td>\n",
       "      <td>4.93</td>\n",
       "      <td>4.87</td>\n",
       "      <td>4.70</td>\n",
       "      <td>4.57</td>\n",
       "      <td>f</td>\n",
       "      <td>0.64</td>\n",
       "    </tr>\n",
       "    <tr>\n",
       "      <th>4</th>\n",
       "      <td>5.65E+17</td>\n",
       "      <td>Júlio</td>\n",
       "      <td>12/07/14</td>\n",
       "      <td>within an hour</td>\n",
       "      <td>100%</td>\n",
       "      <td>67%</td>\n",
       "      <td>f</td>\n",
       "      <td>0.0</td>\n",
       "      <td>t</td>\n",
       "      <td>t</td>\n",
       "      <td>...</td>\n",
       "      <td>$180.00</td>\n",
       "      <td>NaN</td>\n",
       "      <td>NaN</td>\n",
       "      <td>NaN</td>\n",
       "      <td>NaN</td>\n",
       "      <td>NaN</td>\n",
       "      <td>NaN</td>\n",
       "      <td>NaN</td>\n",
       "      <td>f</td>\n",
       "      <td>NaN</td>\n",
       "    </tr>\n",
       "  </tbody>\n",
       "</table>\n",
       "<p>5 rows × 29 columns</p>\n",
       "</div>"
      ],
      "text/plain": [
       "         id host_name host_since host_response_time host_response_rate  \\\n",
       "0  15965441      José   11/14/16     within an hour                83%   \n",
       "1  47908784    Raquel    7/15/16       within a day                50%   \n",
       "2  52239613     Fabio    9/13/21       within a day               100%   \n",
       "3  10445855    Márcio    1/24/12     within an hour               100%   \n",
       "4  5.65E+17     Júlio   12/07/14     within an hour               100%   \n",
       "\n",
       "  host_acceptance_rate host_is_superhost  host_total_listings_count  \\\n",
       "0                   0%                 f                        3.0   \n",
       "1                 100%                 f                        1.0   \n",
       "2                  89%                 f                        0.0   \n",
       "3                 100%                 f                        2.0   \n",
       "4                  67%                 f                        0.0   \n",
       "\n",
       "  host_has_profile_pic host_identity_verified  ...     price  \\\n",
       "0                    t                      t  ...  $150.00    \n",
       "1                    t                      f  ...  $450.00    \n",
       "2                    t                      f  ...  $350.00    \n",
       "3                    t                      t  ...  $145.00    \n",
       "4                    t                      t  ...  $180.00    \n",
       "\n",
       "   review_scores_rating  review_scores_accuracy review_scores_cleanliness  \\\n",
       "0                   NaN                     NaN                       NaN   \n",
       "1                   NaN                     NaN                       NaN   \n",
       "2                  5.00                    5.00                      5.00   \n",
       "3                  4.78                    4.91                      4.89   \n",
       "4                   NaN                     NaN                       NaN   \n",
       "\n",
       "  review_scores_checkin  review_scores_communication review_scores_location  \\\n",
       "0                   NaN                          NaN                    NaN   \n",
       "1                   NaN                          NaN                    NaN   \n",
       "2                  4.89                         4.78                   4.78   \n",
       "3                  4.93                         4.87                   4.70   \n",
       "4                   NaN                          NaN                    NaN   \n",
       "\n",
       "   review_scores_value  instant_bookable reviews_per_month  \n",
       "0                  NaN                 f               NaN  \n",
       "1                  NaN                 f               NaN  \n",
       "2                 4.89                 f              1.16  \n",
       "3                 4.57                 f              0.64  \n",
       "4                  NaN                 f               NaN  \n",
       "\n",
       "[5 rows x 29 columns]"
      ]
     },
     "execution_count": 4,
     "metadata": {},
     "output_type": "execute_result"
    }
   ],
   "source": [
    "df.head()"
   ]
  },
  {
   "cell_type": "code",
   "execution_count": 5,
   "id": "2d584d0b",
   "metadata": {},
   "outputs": [
    {
     "data": {
      "text/html": [
       "<div>\n",
       "<style scoped>\n",
       "    .dataframe tbody tr th:only-of-type {\n",
       "        vertical-align: middle;\n",
       "    }\n",
       "\n",
       "    .dataframe tbody tr th {\n",
       "        vertical-align: top;\n",
       "    }\n",
       "\n",
       "    .dataframe thead th {\n",
       "        text-align: right;\n",
       "    }\n",
       "</style>\n",
       "<table border=\"1\" class=\"dataframe\">\n",
       "  <thead>\n",
       "    <tr style=\"text-align: right;\">\n",
       "      <th></th>\n",
       "      <th>host_total_listings_count</th>\n",
       "      <th>latitude</th>\n",
       "      <th>longitude</th>\n",
       "      <th>accommodates</th>\n",
       "      <th>bedrooms</th>\n",
       "      <th>beds</th>\n",
       "      <th>review_scores_rating</th>\n",
       "      <th>review_scores_accuracy</th>\n",
       "      <th>review_scores_cleanliness</th>\n",
       "      <th>review_scores_checkin</th>\n",
       "      <th>review_scores_communication</th>\n",
       "      <th>review_scores_location</th>\n",
       "      <th>review_scores_value</th>\n",
       "      <th>reviews_per_month</th>\n",
       "    </tr>\n",
       "  </thead>\n",
       "  <tbody>\n",
       "    <tr>\n",
       "      <th>count</th>\n",
       "      <td>24764.000000</td>\n",
       "      <td>24881.000000</td>\n",
       "      <td>24881.000000</td>\n",
       "      <td>24881.000000</td>\n",
       "      <td>23512.000000</td>\n",
       "      <td>24629.000000</td>\n",
       "      <td>17213.000000</td>\n",
       "      <td>16951.000000</td>\n",
       "      <td>16951.000000</td>\n",
       "      <td>16951.000000</td>\n",
       "      <td>16951.000000</td>\n",
       "      <td>16950.000000</td>\n",
       "      <td>16951.000000</td>\n",
       "      <td>17213.000000</td>\n",
       "    </tr>\n",
       "    <tr>\n",
       "      <th>mean</th>\n",
       "      <td>8.816225</td>\n",
       "      <td>-22.963136</td>\n",
       "      <td>-43.242797</td>\n",
       "      <td>4.147542</td>\n",
       "      <td>1.700749</td>\n",
       "      <td>2.610540</td>\n",
       "      <td>4.678449</td>\n",
       "      <td>4.787037</td>\n",
       "      <td>4.699627</td>\n",
       "      <td>4.874502</td>\n",
       "      <td>4.854086</td>\n",
       "      <td>4.856884</td>\n",
       "      <td>4.666319</td>\n",
       "      <td>0.812952</td>\n",
       "    </tr>\n",
       "    <tr>\n",
       "      <th>std</th>\n",
       "      <td>33.220112</td>\n",
       "      <td>0.520872</td>\n",
       "      <td>0.844127</td>\n",
       "      <td>2.452420</td>\n",
       "      <td>1.092943</td>\n",
       "      <td>2.220235</td>\n",
       "      <td>0.735262</td>\n",
       "      <td>0.451660</td>\n",
       "      <td>0.506034</td>\n",
       "      <td>0.365038</td>\n",
       "      <td>0.396322</td>\n",
       "      <td>0.355991</td>\n",
       "      <td>0.482993</td>\n",
       "      <td>1.011219</td>\n",
       "    </tr>\n",
       "    <tr>\n",
       "      <th>min</th>\n",
       "      <td>0.000000</td>\n",
       "      <td>-23.073750</td>\n",
       "      <td>-43.770380</td>\n",
       "      <td>0.000000</td>\n",
       "      <td>1.000000</td>\n",
       "      <td>1.000000</td>\n",
       "      <td>0.000000</td>\n",
       "      <td>0.000000</td>\n",
       "      <td>0.000000</td>\n",
       "      <td>0.000000</td>\n",
       "      <td>1.000000</td>\n",
       "      <td>1.000000</td>\n",
       "      <td>1.000000</td>\n",
       "      <td>0.010000</td>\n",
       "    </tr>\n",
       "    <tr>\n",
       "      <th>25%</th>\n",
       "      <td>1.000000</td>\n",
       "      <td>-22.984710</td>\n",
       "      <td>-43.300460</td>\n",
       "      <td>2.000000</td>\n",
       "      <td>1.000000</td>\n",
       "      <td>1.000000</td>\n",
       "      <td>4.670000</td>\n",
       "      <td>4.760000</td>\n",
       "      <td>4.620000</td>\n",
       "      <td>4.890000</td>\n",
       "      <td>4.860000</td>\n",
       "      <td>4.860000</td>\n",
       "      <td>4.570000</td>\n",
       "      <td>0.130000</td>\n",
       "    </tr>\n",
       "    <tr>\n",
       "      <th>50%</th>\n",
       "      <td>1.000000</td>\n",
       "      <td>-22.972660</td>\n",
       "      <td>-43.195790</td>\n",
       "      <td>4.000000</td>\n",
       "      <td>1.000000</td>\n",
       "      <td>2.000000</td>\n",
       "      <td>4.890000</td>\n",
       "      <td>4.940000</td>\n",
       "      <td>4.870000</td>\n",
       "      <td>5.000000</td>\n",
       "      <td>5.000000</td>\n",
       "      <td>5.000000</td>\n",
       "      <td>4.790000</td>\n",
       "      <td>0.450000</td>\n",
       "    </tr>\n",
       "    <tr>\n",
       "      <th>75%</th>\n",
       "      <td>4.000000</td>\n",
       "      <td>-22.953580</td>\n",
       "      <td>-43.186050</td>\n",
       "      <td>5.000000</td>\n",
       "      <td>2.000000</td>\n",
       "      <td>3.000000</td>\n",
       "      <td>5.000000</td>\n",
       "      <td>5.000000</td>\n",
       "      <td>5.000000</td>\n",
       "      <td>5.000000</td>\n",
       "      <td>5.000000</td>\n",
       "      <td>5.000000</td>\n",
       "      <td>5.000000</td>\n",
       "      <td>1.100000</td>\n",
       "    </tr>\n",
       "    <tr>\n",
       "      <th>max</th>\n",
       "      <td>1125.000000</td>\n",
       "      <td>59.000000</td>\n",
       "      <td>89.000000</td>\n",
       "      <td>16.000000</td>\n",
       "      <td>47.000000</td>\n",
       "      <td>91.000000</td>\n",
       "      <td>5.000000</td>\n",
       "      <td>5.000000</td>\n",
       "      <td>5.000000</td>\n",
       "      <td>5.000000</td>\n",
       "      <td>5.000000</td>\n",
       "      <td>5.000000</td>\n",
       "      <td>5.000000</td>\n",
       "      <td>18.740000</td>\n",
       "    </tr>\n",
       "  </tbody>\n",
       "</table>\n",
       "</div>"
      ],
      "text/plain": [
       "       host_total_listings_count      latitude     longitude  accommodates  \\\n",
       "count               24764.000000  24881.000000  24881.000000  24881.000000   \n",
       "mean                    8.816225    -22.963136    -43.242797      4.147542   \n",
       "std                    33.220112      0.520872      0.844127      2.452420   \n",
       "min                     0.000000    -23.073750    -43.770380      0.000000   \n",
       "25%                     1.000000    -22.984710    -43.300460      2.000000   \n",
       "50%                     1.000000    -22.972660    -43.195790      4.000000   \n",
       "75%                     4.000000    -22.953580    -43.186050      5.000000   \n",
       "max                  1125.000000     59.000000     89.000000     16.000000   \n",
       "\n",
       "           bedrooms          beds  review_scores_rating  \\\n",
       "count  23512.000000  24629.000000          17213.000000   \n",
       "mean       1.700749      2.610540              4.678449   \n",
       "std        1.092943      2.220235              0.735262   \n",
       "min        1.000000      1.000000              0.000000   \n",
       "25%        1.000000      1.000000              4.670000   \n",
       "50%        1.000000      2.000000              4.890000   \n",
       "75%        2.000000      3.000000              5.000000   \n",
       "max       47.000000     91.000000              5.000000   \n",
       "\n",
       "       review_scores_accuracy  review_scores_cleanliness  \\\n",
       "count            16951.000000               16951.000000   \n",
       "mean                 4.787037                   4.699627   \n",
       "std                  0.451660                   0.506034   \n",
       "min                  0.000000                   0.000000   \n",
       "25%                  4.760000                   4.620000   \n",
       "50%                  4.940000                   4.870000   \n",
       "75%                  5.000000                   5.000000   \n",
       "max                  5.000000                   5.000000   \n",
       "\n",
       "       review_scores_checkin  review_scores_communication  \\\n",
       "count           16951.000000                 16951.000000   \n",
       "mean                4.874502                     4.854086   \n",
       "std                 0.365038                     0.396322   \n",
       "min                 0.000000                     1.000000   \n",
       "25%                 4.890000                     4.860000   \n",
       "50%                 5.000000                     5.000000   \n",
       "75%                 5.000000                     5.000000   \n",
       "max                 5.000000                     5.000000   \n",
       "\n",
       "       review_scores_location  review_scores_value  reviews_per_month  \n",
       "count            16950.000000         16951.000000       17213.000000  \n",
       "mean                 4.856884             4.666319           0.812952  \n",
       "std                  0.355991             0.482993           1.011219  \n",
       "min                  1.000000             1.000000           0.010000  \n",
       "25%                  4.860000             4.570000           0.130000  \n",
       "50%                  5.000000             4.790000           0.450000  \n",
       "75%                  5.000000             5.000000           1.100000  \n",
       "max                  5.000000             5.000000          18.740000  "
      ]
     },
     "execution_count": 5,
     "metadata": {},
     "output_type": "execute_result"
    }
   ],
   "source": [
    "df.describe()"
   ]
  },
  {
   "cell_type": "code",
   "execution_count": 6,
   "id": "253ca79e",
   "metadata": {},
   "outputs": [
    {
     "name": "stdout",
     "output_type": "stream",
     "text": [
      "<class 'pandas.core.frame.DataFrame'>\n",
      "RangeIndex: 24886 entries, 0 to 24885\n",
      "Data columns (total 29 columns):\n",
      " #   Column                       Non-Null Count  Dtype  \n",
      "---  ------                       --------------  -----  \n",
      " 0   id                           24885 non-null  object \n",
      " 1   host_name                    24765 non-null  object \n",
      " 2   host_since                   24765 non-null  object \n",
      " 3   host_response_time           19664 non-null  object \n",
      " 4   host_response_rate           19664 non-null  object \n",
      " 5   host_acceptance_rate         20072 non-null  object \n",
      " 6   host_is_superhost            24764 non-null  object \n",
      " 7   host_total_listings_count    24764 non-null  float64\n",
      " 8   host_has_profile_pic         24764 non-null  object \n",
      " 9   host_identity_verified       24764 non-null  object \n",
      " 10  neighbourhood_cleansed       24881 non-null  object \n",
      " 11  latitude                     24881 non-null  float64\n",
      " 12  longitude                    24881 non-null  float64\n",
      " 13  property_type                24881 non-null  object \n",
      " 14  room_type                    24881 non-null  object \n",
      " 15  accommodates                 24881 non-null  float64\n",
      " 16  bathrooms_text               24828 non-null  object \n",
      " 17  bedrooms                     23512 non-null  float64\n",
      " 18  beds                         24629 non-null  float64\n",
      " 19  price                        24880 non-null  object \n",
      " 20  review_scores_rating         17213 non-null  float64\n",
      " 21  review_scores_accuracy       16951 non-null  float64\n",
      " 22  review_scores_cleanliness    16951 non-null  float64\n",
      " 23  review_scores_checkin        16951 non-null  float64\n",
      " 24  review_scores_communication  16951 non-null  float64\n",
      " 25  review_scores_location       16950 non-null  float64\n",
      " 26  review_scores_value          16951 non-null  float64\n",
      " 27  instant_bookable             24880 non-null  object \n",
      " 28  reviews_per_month            17213 non-null  float64\n",
      "dtypes: float64(14), object(15)\n",
      "memory usage: 5.5+ MB\n"
     ]
    }
   ],
   "source": [
    "#understanding the dataset columns and redefining values as well as types based on requirements\n",
    "df.info()"
   ]
  },
  {
   "cell_type": "code",
   "execution_count": 7,
   "id": "e1de181b",
   "metadata": {},
   "outputs": [
    {
     "data": {
      "text/plain": [
       "id                                1\n",
       "host_name                       121\n",
       "host_since                      121\n",
       "host_response_time             5222\n",
       "host_response_rate             5222\n",
       "host_acceptance_rate           4814\n",
       "host_is_superhost               122\n",
       "host_total_listings_count       122\n",
       "host_has_profile_pic            122\n",
       "host_identity_verified          122\n",
       "neighbourhood_cleansed            5\n",
       "latitude                          5\n",
       "longitude                         5\n",
       "property_type                     5\n",
       "room_type                         5\n",
       "accommodates                      5\n",
       "bathrooms_text                   58\n",
       "bedrooms                       1374\n",
       "beds                            257\n",
       "price                             6\n",
       "review_scores_rating           7673\n",
       "review_scores_accuracy         7935\n",
       "review_scores_cleanliness      7935\n",
       "review_scores_checkin          7935\n",
       "review_scores_communication    7935\n",
       "review_scores_location         7936\n",
       "review_scores_value            7935\n",
       "instant_bookable                  6\n",
       "reviews_per_month              7673\n",
       "dtype: int64"
      ]
     },
     "execution_count": 7,
     "metadata": {},
     "output_type": "execute_result"
    },
    {
     "name": "stdout",
     "output_type": "stream",
     "text": [
      "<class 'pandas.core.frame.DataFrame'>\n",
      "RangeIndex: 24886 entries, 0 to 24885\n",
      "Data columns (total 29 columns):\n",
      " #   Column                       Non-Null Count  Dtype  \n",
      "---  ------                       --------------  -----  \n",
      " 0   id                           24885 non-null  object \n",
      " 1   host_name                    24765 non-null  object \n",
      " 2   host_since                   24765 non-null  object \n",
      " 3   host_response_time           19664 non-null  object \n",
      " 4   host_response_rate           19664 non-null  object \n",
      " 5   host_acceptance_rate         20072 non-null  object \n",
      " 6   host_is_superhost            24764 non-null  object \n",
      " 7   host_total_listings_count    24764 non-null  float64\n",
      " 8   host_has_profile_pic         24764 non-null  object \n",
      " 9   host_identity_verified       24764 non-null  object \n",
      " 10  neighbourhood_cleansed       24881 non-null  object \n",
      " 11  latitude                     24881 non-null  float64\n",
      " 12  longitude                    24881 non-null  float64\n",
      " 13  property_type                24881 non-null  object \n",
      " 14  room_type                    24881 non-null  object \n",
      " 15  accommodates                 24881 non-null  float64\n",
      " 16  bathrooms_text               24828 non-null  object \n",
      " 17  bedrooms                     23512 non-null  float64\n",
      " 18  beds                         24629 non-null  float64\n",
      " 19  price                        24880 non-null  object \n",
      " 20  review_scores_rating         17213 non-null  float64\n",
      " 21  review_scores_accuracy       16951 non-null  float64\n",
      " 22  review_scores_cleanliness    16951 non-null  float64\n",
      " 23  review_scores_checkin        16951 non-null  float64\n",
      " 24  review_scores_communication  16951 non-null  float64\n",
      " 25  review_scores_location       16950 non-null  float64\n",
      " 26  review_scores_value          16951 non-null  float64\n",
      " 27  instant_bookable             24880 non-null  object \n",
      " 28  reviews_per_month            17213 non-null  float64\n",
      "dtypes: float64(14), object(15)\n",
      "memory usage: 5.5+ MB\n"
     ]
    }
   ],
   "source": [
    "df.isnull().sum()\n",
    "df.info()"
   ]
  },
  {
   "cell_type": "markdown",
   "id": "78ee6491",
   "metadata": {},
   "source": [
    "# Data Cleaning "
   ]
  },
  {
   "cell_type": "code",
   "execution_count": 8,
   "id": "29c7450f",
   "metadata": {},
   "outputs": [
    {
     "data": {
      "text/html": [
       "<div>\n",
       "<style scoped>\n",
       "    .dataframe tbody tr th:only-of-type {\n",
       "        vertical-align: middle;\n",
       "    }\n",
       "\n",
       "    .dataframe tbody tr th {\n",
       "        vertical-align: top;\n",
       "    }\n",
       "\n",
       "    .dataframe thead th {\n",
       "        text-align: right;\n",
       "    }\n",
       "</style>\n",
       "<table border=\"1\" class=\"dataframe\">\n",
       "  <thead>\n",
       "    <tr style=\"text-align: right;\">\n",
       "      <th></th>\n",
       "      <th>id</th>\n",
       "      <th>host_name</th>\n",
       "      <th>host_since</th>\n",
       "      <th>host_response_time</th>\n",
       "      <th>host_response_rate</th>\n",
       "      <th>host_acceptance_rate</th>\n",
       "      <th>host_is_superhost</th>\n",
       "      <th>host_total_listings_count</th>\n",
       "      <th>host_has_profile_pic</th>\n",
       "      <th>host_identity_verified</th>\n",
       "      <th>...</th>\n",
       "      <th>price</th>\n",
       "      <th>review_scores_rating</th>\n",
       "      <th>review_scores_accuracy</th>\n",
       "      <th>review_scores_cleanliness</th>\n",
       "      <th>review_scores_checkin</th>\n",
       "      <th>review_scores_communication</th>\n",
       "      <th>review_scores_location</th>\n",
       "      <th>review_scores_value</th>\n",
       "      <th>instant_bookable</th>\n",
       "      <th>reviews_per_month</th>\n",
       "    </tr>\n",
       "  </thead>\n",
       "  <tbody>\n",
       "    <tr>\n",
       "      <th>0</th>\n",
       "      <td>15965441</td>\n",
       "      <td>José</td>\n",
       "      <td>11/14/16</td>\n",
       "      <td>within an hour</td>\n",
       "      <td>83%</td>\n",
       "      <td>0%</td>\n",
       "      <td>f</td>\n",
       "      <td>3.0</td>\n",
       "      <td>t</td>\n",
       "      <td>t</td>\n",
       "      <td>...</td>\n",
       "      <td>150.0</td>\n",
       "      <td>4.678449</td>\n",
       "      <td>4.787037</td>\n",
       "      <td>4.699627</td>\n",
       "      <td>4.874502</td>\n",
       "      <td>4.854086</td>\n",
       "      <td>4.856884</td>\n",
       "      <td>4.666319</td>\n",
       "      <td>f</td>\n",
       "      <td>0.00</td>\n",
       "    </tr>\n",
       "    <tr>\n",
       "      <th>1</th>\n",
       "      <td>47908784</td>\n",
       "      <td>Raquel</td>\n",
       "      <td>7/15/16</td>\n",
       "      <td>within a day</td>\n",
       "      <td>50%</td>\n",
       "      <td>100%</td>\n",
       "      <td>f</td>\n",
       "      <td>1.0</td>\n",
       "      <td>t</td>\n",
       "      <td>f</td>\n",
       "      <td>...</td>\n",
       "      <td>450.0</td>\n",
       "      <td>4.678449</td>\n",
       "      <td>4.787037</td>\n",
       "      <td>4.699627</td>\n",
       "      <td>4.874502</td>\n",
       "      <td>4.854086</td>\n",
       "      <td>4.856884</td>\n",
       "      <td>4.666319</td>\n",
       "      <td>f</td>\n",
       "      <td>0.00</td>\n",
       "    </tr>\n",
       "    <tr>\n",
       "      <th>2</th>\n",
       "      <td>52239613</td>\n",
       "      <td>Fabio</td>\n",
       "      <td>9/13/21</td>\n",
       "      <td>within a day</td>\n",
       "      <td>100%</td>\n",
       "      <td>89%</td>\n",
       "      <td>f</td>\n",
       "      <td>0.0</td>\n",
       "      <td>t</td>\n",
       "      <td>f</td>\n",
       "      <td>...</td>\n",
       "      <td>350.0</td>\n",
       "      <td>5.000000</td>\n",
       "      <td>5.000000</td>\n",
       "      <td>5.000000</td>\n",
       "      <td>4.890000</td>\n",
       "      <td>4.780000</td>\n",
       "      <td>4.780000</td>\n",
       "      <td>4.890000</td>\n",
       "      <td>f</td>\n",
       "      <td>1.16</td>\n",
       "    </tr>\n",
       "    <tr>\n",
       "      <th>3</th>\n",
       "      <td>10445855</td>\n",
       "      <td>Márcio</td>\n",
       "      <td>1/24/12</td>\n",
       "      <td>within an hour</td>\n",
       "      <td>100%</td>\n",
       "      <td>100%</td>\n",
       "      <td>f</td>\n",
       "      <td>2.0</td>\n",
       "      <td>t</td>\n",
       "      <td>t</td>\n",
       "      <td>...</td>\n",
       "      <td>145.0</td>\n",
       "      <td>4.780000</td>\n",
       "      <td>4.910000</td>\n",
       "      <td>4.890000</td>\n",
       "      <td>4.930000</td>\n",
       "      <td>4.870000</td>\n",
       "      <td>4.700000</td>\n",
       "      <td>4.570000</td>\n",
       "      <td>f</td>\n",
       "      <td>0.64</td>\n",
       "    </tr>\n",
       "    <tr>\n",
       "      <th>4</th>\n",
       "      <td>5.65E+17</td>\n",
       "      <td>Júlio</td>\n",
       "      <td>12/07/14</td>\n",
       "      <td>within an hour</td>\n",
       "      <td>100%</td>\n",
       "      <td>67%</td>\n",
       "      <td>f</td>\n",
       "      <td>0.0</td>\n",
       "      <td>t</td>\n",
       "      <td>t</td>\n",
       "      <td>...</td>\n",
       "      <td>180.0</td>\n",
       "      <td>4.678449</td>\n",
       "      <td>4.787037</td>\n",
       "      <td>4.699627</td>\n",
       "      <td>4.874502</td>\n",
       "      <td>4.854086</td>\n",
       "      <td>4.856884</td>\n",
       "      <td>4.666319</td>\n",
       "      <td>f</td>\n",
       "      <td>0.00</td>\n",
       "    </tr>\n",
       "  </tbody>\n",
       "</table>\n",
       "<p>5 rows × 29 columns</p>\n",
       "</div>"
      ],
      "text/plain": [
       "         id host_name host_since host_response_time host_response_rate  \\\n",
       "0  15965441      José   11/14/16     within an hour                83%   \n",
       "1  47908784    Raquel    7/15/16       within a day                50%   \n",
       "2  52239613     Fabio    9/13/21       within a day               100%   \n",
       "3  10445855    Márcio    1/24/12     within an hour               100%   \n",
       "4  5.65E+17     Júlio   12/07/14     within an hour               100%   \n",
       "\n",
       "  host_acceptance_rate host_is_superhost  host_total_listings_count  \\\n",
       "0                   0%                 f                        3.0   \n",
       "1                 100%                 f                        1.0   \n",
       "2                  89%                 f                        0.0   \n",
       "3                 100%                 f                        2.0   \n",
       "4                  67%                 f                        0.0   \n",
       "\n",
       "  host_has_profile_pic host_identity_verified  ...  price  \\\n",
       "0                    t                      t  ...  150.0   \n",
       "1                    t                      f  ...  450.0   \n",
       "2                    t                      f  ...  350.0   \n",
       "3                    t                      t  ...  145.0   \n",
       "4                    t                      t  ...  180.0   \n",
       "\n",
       "   review_scores_rating  review_scores_accuracy review_scores_cleanliness  \\\n",
       "0              4.678449                4.787037                  4.699627   \n",
       "1              4.678449                4.787037                  4.699627   \n",
       "2              5.000000                5.000000                  5.000000   \n",
       "3              4.780000                4.910000                  4.890000   \n",
       "4              4.678449                4.787037                  4.699627   \n",
       "\n",
       "  review_scores_checkin  review_scores_communication review_scores_location  \\\n",
       "0              4.874502                     4.854086               4.856884   \n",
       "1              4.874502                     4.854086               4.856884   \n",
       "2              4.890000                     4.780000               4.780000   \n",
       "3              4.930000                     4.870000               4.700000   \n",
       "4              4.874502                     4.854086               4.856884   \n",
       "\n",
       "   review_scores_value  instant_bookable  reviews_per_month  \n",
       "0             4.666319                 f               0.00  \n",
       "1             4.666319                 f               0.00  \n",
       "2             4.890000                 f               1.16  \n",
       "3             4.570000                 f               0.64  \n",
       "4             4.666319                 f               0.00  \n",
       "\n",
       "[5 rows x 29 columns]"
      ]
     },
     "execution_count": 8,
     "metadata": {},
     "output_type": "execute_result"
    },
    {
     "name": "stdout",
     "output_type": "stream",
     "text": [
      "<class 'pandas.core.frame.DataFrame'>\n",
      "RangeIndex: 24886 entries, 0 to 24885\n",
      "Data columns (total 29 columns):\n",
      " #   Column                       Non-Null Count  Dtype   \n",
      "---  ------                       --------------  -----   \n",
      " 0   id                           24885 non-null  object  \n",
      " 1   host_name                    24765 non-null  object  \n",
      " 2   host_since                   24765 non-null  object  \n",
      " 3   host_response_time           19664 non-null  object  \n",
      " 4   host_response_rate           19664 non-null  object  \n",
      " 5   host_acceptance_rate         20072 non-null  object  \n",
      " 6   host_is_superhost            24764 non-null  category\n",
      " 7   host_total_listings_count    24764 non-null  float64 \n",
      " 8   host_has_profile_pic         24764 non-null  object  \n",
      " 9   host_identity_verified       24764 non-null  category\n",
      " 10  neighbourhood_cleansed       24881 non-null  object  \n",
      " 11  latitude                     24881 non-null  float64 \n",
      " 12  longitude                    24881 non-null  float64 \n",
      " 13  property_type                24881 non-null  object  \n",
      " 14  room_type                    24881 non-null  category\n",
      " 15  accommodates                 24886 non-null  int64   \n",
      " 16  bathrooms_text               24828 non-null  object  \n",
      " 17  bedrooms                     24886 non-null  int64   \n",
      " 18  beds                         24886 non-null  int64   \n",
      " 19  price                        24886 non-null  float64 \n",
      " 20  review_scores_rating         24886 non-null  float64 \n",
      " 21  review_scores_accuracy       24886 non-null  float64 \n",
      " 22  review_scores_cleanliness    24886 non-null  float64 \n",
      " 23  review_scores_checkin        24886 non-null  float64 \n",
      " 24  review_scores_communication  24886 non-null  float64 \n",
      " 25  review_scores_location       24886 non-null  float64 \n",
      " 26  review_scores_value          24886 non-null  float64 \n",
      " 27  instant_bookable             24880 non-null  category\n",
      " 28  reviews_per_month            24886 non-null  float64 \n",
      "dtypes: category(4), float64(12), int64(3), object(10)\n",
      "memory usage: 4.8+ MB\n"
     ]
    },
    {
     "data": {
      "text/html": [
       "<div>\n",
       "<style scoped>\n",
       "    .dataframe tbody tr th:only-of-type {\n",
       "        vertical-align: middle;\n",
       "    }\n",
       "\n",
       "    .dataframe tbody tr th {\n",
       "        vertical-align: top;\n",
       "    }\n",
       "\n",
       "    .dataframe thead th {\n",
       "        text-align: right;\n",
       "    }\n",
       "</style>\n",
       "<table border=\"1\" class=\"dataframe\">\n",
       "  <thead>\n",
       "    <tr style=\"text-align: right;\">\n",
       "      <th></th>\n",
       "      <th>host_total_listings_count</th>\n",
       "      <th>latitude</th>\n",
       "      <th>longitude</th>\n",
       "      <th>accommodates</th>\n",
       "      <th>bedrooms</th>\n",
       "      <th>beds</th>\n",
       "      <th>price</th>\n",
       "      <th>review_scores_rating</th>\n",
       "      <th>review_scores_accuracy</th>\n",
       "      <th>review_scores_cleanliness</th>\n",
       "      <th>review_scores_checkin</th>\n",
       "      <th>review_scores_communication</th>\n",
       "      <th>review_scores_location</th>\n",
       "      <th>review_scores_value</th>\n",
       "      <th>reviews_per_month</th>\n",
       "    </tr>\n",
       "  </thead>\n",
       "  <tbody>\n",
       "    <tr>\n",
       "      <th>count</th>\n",
       "      <td>24764.000000</td>\n",
       "      <td>24881.000000</td>\n",
       "      <td>24881.000000</td>\n",
       "      <td>24886.000000</td>\n",
       "      <td>24886.000000</td>\n",
       "      <td>24886.000000</td>\n",
       "      <td>24886.000000</td>\n",
       "      <td>24886.000000</td>\n",
       "      <td>24886.000000</td>\n",
       "      <td>24886.000000</td>\n",
       "      <td>24886.000000</td>\n",
       "      <td>24886.000000</td>\n",
       "      <td>24886.000000</td>\n",
       "      <td>24886.000000</td>\n",
       "      <td>24886.000000</td>\n",
       "    </tr>\n",
       "    <tr>\n",
       "      <th>mean</th>\n",
       "      <td>8.816225</td>\n",
       "      <td>-22.963136</td>\n",
       "      <td>-43.242797</td>\n",
       "      <td>4.146709</td>\n",
       "      <td>1.606847</td>\n",
       "      <td>2.583581</td>\n",
       "      <td>745.243350</td>\n",
       "      <td>4.678449</td>\n",
       "      <td>4.787037</td>\n",
       "      <td>4.699627</td>\n",
       "      <td>4.874502</td>\n",
       "      <td>4.854086</td>\n",
       "      <td>4.856884</td>\n",
       "      <td>4.666319</td>\n",
       "      <td>0.562298</td>\n",
       "    </tr>\n",
       "    <tr>\n",
       "      <th>std</th>\n",
       "      <td>33.220112</td>\n",
       "      <td>0.520872</td>\n",
       "      <td>0.844127</td>\n",
       "      <td>2.452878</td>\n",
       "      <td>1.131133</td>\n",
       "      <td>2.224452</td>\n",
       "      <td>4983.150977</td>\n",
       "      <td>0.611490</td>\n",
       "      <td>0.372759</td>\n",
       "      <td>0.417634</td>\n",
       "      <td>0.301269</td>\n",
       "      <td>0.327087</td>\n",
       "      <td>0.293793</td>\n",
       "      <td>0.398618</td>\n",
       "      <td>0.920987</td>\n",
       "    </tr>\n",
       "    <tr>\n",
       "      <th>min</th>\n",
       "      <td>0.000000</td>\n",
       "      <td>-23.073750</td>\n",
       "      <td>-43.770380</td>\n",
       "      <td>0.000000</td>\n",
       "      <td>0.000000</td>\n",
       "      <td>0.000000</td>\n",
       "      <td>0.000000</td>\n",
       "      <td>0.000000</td>\n",
       "      <td>0.000000</td>\n",
       "      <td>0.000000</td>\n",
       "      <td>0.000000</td>\n",
       "      <td>1.000000</td>\n",
       "      <td>1.000000</td>\n",
       "      <td>1.000000</td>\n",
       "      <td>0.000000</td>\n",
       "    </tr>\n",
       "    <tr>\n",
       "      <th>25%</th>\n",
       "      <td>1.000000</td>\n",
       "      <td>-22.984710</td>\n",
       "      <td>-43.300460</td>\n",
       "      <td>2.000000</td>\n",
       "      <td>1.000000</td>\n",
       "      <td>1.000000</td>\n",
       "      <td>180.000000</td>\n",
       "      <td>4.678449</td>\n",
       "      <td>4.787037</td>\n",
       "      <td>4.699627</td>\n",
       "      <td>4.874502</td>\n",
       "      <td>4.854086</td>\n",
       "      <td>4.856884</td>\n",
       "      <td>4.666319</td>\n",
       "      <td>0.000000</td>\n",
       "    </tr>\n",
       "    <tr>\n",
       "      <th>50%</th>\n",
       "      <td>1.000000</td>\n",
       "      <td>-22.972660</td>\n",
       "      <td>-43.195790</td>\n",
       "      <td>4.000000</td>\n",
       "      <td>1.000000</td>\n",
       "      <td>2.000000</td>\n",
       "      <td>300.000000</td>\n",
       "      <td>4.700000</td>\n",
       "      <td>4.787037</td>\n",
       "      <td>4.699627</td>\n",
       "      <td>4.900000</td>\n",
       "      <td>4.880000</td>\n",
       "      <td>4.870000</td>\n",
       "      <td>4.666319</td>\n",
       "      <td>0.160000</td>\n",
       "    </tr>\n",
       "    <tr>\n",
       "      <th>75%</th>\n",
       "      <td>4.000000</td>\n",
       "      <td>-22.953580</td>\n",
       "      <td>-43.186050</td>\n",
       "      <td>5.000000</td>\n",
       "      <td>2.000000</td>\n",
       "      <td>3.000000</td>\n",
       "      <td>600.000000</td>\n",
       "      <td>5.000000</td>\n",
       "      <td>5.000000</td>\n",
       "      <td>4.970000</td>\n",
       "      <td>5.000000</td>\n",
       "      <td>5.000000</td>\n",
       "      <td>5.000000</td>\n",
       "      <td>4.880000</td>\n",
       "      <td>0.750000</td>\n",
       "    </tr>\n",
       "    <tr>\n",
       "      <th>max</th>\n",
       "      <td>1125.000000</td>\n",
       "      <td>59.000000</td>\n",
       "      <td>89.000000</td>\n",
       "      <td>16.000000</td>\n",
       "      <td>47.000000</td>\n",
       "      <td>91.000000</td>\n",
       "      <td>591723.000000</td>\n",
       "      <td>5.000000</td>\n",
       "      <td>5.000000</td>\n",
       "      <td>5.000000</td>\n",
       "      <td>5.000000</td>\n",
       "      <td>5.000000</td>\n",
       "      <td>5.000000</td>\n",
       "      <td>5.000000</td>\n",
       "      <td>18.740000</td>\n",
       "    </tr>\n",
       "  </tbody>\n",
       "</table>\n",
       "</div>"
      ],
      "text/plain": [
       "       host_total_listings_count      latitude     longitude  accommodates  \\\n",
       "count               24764.000000  24881.000000  24881.000000  24886.000000   \n",
       "mean                    8.816225    -22.963136    -43.242797      4.146709   \n",
       "std                    33.220112      0.520872      0.844127      2.452878   \n",
       "min                     0.000000    -23.073750    -43.770380      0.000000   \n",
       "25%                     1.000000    -22.984710    -43.300460      2.000000   \n",
       "50%                     1.000000    -22.972660    -43.195790      4.000000   \n",
       "75%                     4.000000    -22.953580    -43.186050      5.000000   \n",
       "max                  1125.000000     59.000000     89.000000     16.000000   \n",
       "\n",
       "           bedrooms          beds          price  review_scores_rating  \\\n",
       "count  24886.000000  24886.000000   24886.000000          24886.000000   \n",
       "mean       1.606847      2.583581     745.243350              4.678449   \n",
       "std        1.131133      2.224452    4983.150977              0.611490   \n",
       "min        0.000000      0.000000       0.000000              0.000000   \n",
       "25%        1.000000      1.000000     180.000000              4.678449   \n",
       "50%        1.000000      2.000000     300.000000              4.700000   \n",
       "75%        2.000000      3.000000     600.000000              5.000000   \n",
       "max       47.000000     91.000000  591723.000000              5.000000   \n",
       "\n",
       "       review_scores_accuracy  review_scores_cleanliness  \\\n",
       "count            24886.000000               24886.000000   \n",
       "mean                 4.787037                   4.699627   \n",
       "std                  0.372759                   0.417634   \n",
       "min                  0.000000                   0.000000   \n",
       "25%                  4.787037                   4.699627   \n",
       "50%                  4.787037                   4.699627   \n",
       "75%                  5.000000                   4.970000   \n",
       "max                  5.000000                   5.000000   \n",
       "\n",
       "       review_scores_checkin  review_scores_communication  \\\n",
       "count           24886.000000                 24886.000000   \n",
       "mean                4.874502                     4.854086   \n",
       "std                 0.301269                     0.327087   \n",
       "min                 0.000000                     1.000000   \n",
       "25%                 4.874502                     4.854086   \n",
       "50%                 4.900000                     4.880000   \n",
       "75%                 5.000000                     5.000000   \n",
       "max                 5.000000                     5.000000   \n",
       "\n",
       "       review_scores_location  review_scores_value  reviews_per_month  \n",
       "count            24886.000000         24886.000000       24886.000000  \n",
       "mean                 4.856884             4.666319           0.562298  \n",
       "std                  0.293793             0.398618           0.920987  \n",
       "min                  1.000000             1.000000           0.000000  \n",
       "25%                  4.856884             4.666319           0.000000  \n",
       "50%                  4.870000             4.666319           0.160000  \n",
       "75%                  5.000000             4.880000           0.750000  \n",
       "max                  5.000000             5.000000          18.740000  "
      ]
     },
     "execution_count": 8,
     "metadata": {},
     "output_type": "execute_result"
    }
   ],
   "source": [
    "#Changing Price to float values\n",
    "df['price']=df['price'].replace('[\\$\\,]', '', regex=True).astype(float)\n",
    "\n",
    "#setting all NaN values to 0 for column - 'reviews_per_month'\n",
    "df.fillna({'reviews_per_month':0, 'accommodates':0,'beds':0,'bedrooms':0 }, inplace=True)\n",
    "\n",
    "df['beds'] =df['beds'].astype(int)\n",
    "df['bedrooms'] =df['bedrooms'].astype(int)\n",
    "df['accommodates'] =df['accommodates'].astype(int)\n",
    "\n",
    "#replace other numeric columns with mean values / Imputing Mean values for other review columns\n",
    "impute_df = df[['review_scores_rating',\n",
    "       'review_scores_accuracy', 'review_scores_cleanliness',\n",
    "       'review_scores_checkin', 'review_scores_communication',\n",
    "       'review_scores_location', 'review_scores_value']]\n",
    "impute_df = impute_df.fillna(impute_df.mean())\n",
    "df.update(impute_df)\n",
    "\n",
    "#Categorical columns - \"property_type\" \"room_type\" \"bathrooms_text\" changing to One Hot encoding + get_dummies for these \n",
    "df = df.replace(to_replace = {\"6/21/22\", 'nan'}, value =\"Entire home/apt\")\n",
    "df[['room_type','instant_bookable','host_is_superhost','host_identity_verified']] =df[['room_type','instant_bookable','host_is_superhost','host_identity_verified']].astype('category')\n",
    "df['price'] =df['price'].fillna(0)\n",
    "\n",
    "\n",
    "#viewing updated dataframes \n",
    "df.head()\n",
    "df.info()\n",
    "df.describe()\n"
   ]
  },
  {
   "cell_type": "code",
   "execution_count": 9,
   "id": "e4d90d1a",
   "metadata": {
    "scrolled": true
   },
   "outputs": [
    {
     "data": {
      "text/plain": [
       "Entire rental unit             14315\n",
       "Private room in rental unit     3043\n",
       "Entire condo                    1707\n",
       "Entire home                     1139\n",
       "Private room in home             974\n",
       "                               ...  \n",
       "364                                1\n",
       "Shared room in nature lodge        1\n",
       "Yurt                               1\n",
       "Shared room in cottage             1\n",
       "Room in nature lodge               1\n",
       "Name: property_type, Length: 84, dtype: int64"
      ]
     },
     "execution_count": 9,
     "metadata": {},
     "output_type": "execute_result"
    },
    {
     "data": {
      "text/plain": [
       "Entire home/apt    19134\n",
       "Private room        5230\n",
       "Shared room          450\n",
       "Hotel room            67\n",
       "Name: room_type, dtype: int64"
      ]
     },
     "execution_count": 9,
     "metadata": {},
     "output_type": "execute_result"
    },
    {
     "data": {
      "text/html": [
       "<div>\n",
       "<style scoped>\n",
       "    .dataframe tbody tr th:only-of-type {\n",
       "        vertical-align: middle;\n",
       "    }\n",
       "\n",
       "    .dataframe tbody tr th {\n",
       "        vertical-align: top;\n",
       "    }\n",
       "\n",
       "    .dataframe thead th {\n",
       "        text-align: right;\n",
       "    }\n",
       "</style>\n",
       "<table border=\"1\" class=\"dataframe\">\n",
       "  <thead>\n",
       "    <tr style=\"text-align: right;\">\n",
       "      <th></th>\n",
       "      <th>accommodates</th>\n",
       "      <th>price</th>\n",
       "      <th>bedrooms</th>\n",
       "      <th>beds</th>\n",
       "      <th>reviews_per_month</th>\n",
       "    </tr>\n",
       "  </thead>\n",
       "  <tbody>\n",
       "    <tr>\n",
       "      <th>count</th>\n",
       "      <td>24886.000000</td>\n",
       "      <td>24886.000000</td>\n",
       "      <td>24886.000000</td>\n",
       "      <td>24886.000000</td>\n",
       "      <td>24886.000000</td>\n",
       "    </tr>\n",
       "    <tr>\n",
       "      <th>mean</th>\n",
       "      <td>4.146709</td>\n",
       "      <td>745.243350</td>\n",
       "      <td>1.606847</td>\n",
       "      <td>2.583581</td>\n",
       "      <td>0.562298</td>\n",
       "    </tr>\n",
       "    <tr>\n",
       "      <th>std</th>\n",
       "      <td>2.452878</td>\n",
       "      <td>4983.150977</td>\n",
       "      <td>1.131133</td>\n",
       "      <td>2.224452</td>\n",
       "      <td>0.920987</td>\n",
       "    </tr>\n",
       "    <tr>\n",
       "      <th>min</th>\n",
       "      <td>0.000000</td>\n",
       "      <td>0.000000</td>\n",
       "      <td>0.000000</td>\n",
       "      <td>0.000000</td>\n",
       "      <td>0.000000</td>\n",
       "    </tr>\n",
       "    <tr>\n",
       "      <th>25%</th>\n",
       "      <td>2.000000</td>\n",
       "      <td>180.000000</td>\n",
       "      <td>1.000000</td>\n",
       "      <td>1.000000</td>\n",
       "      <td>0.000000</td>\n",
       "    </tr>\n",
       "    <tr>\n",
       "      <th>50%</th>\n",
       "      <td>4.000000</td>\n",
       "      <td>300.000000</td>\n",
       "      <td>1.000000</td>\n",
       "      <td>2.000000</td>\n",
       "      <td>0.160000</td>\n",
       "    </tr>\n",
       "    <tr>\n",
       "      <th>75%</th>\n",
       "      <td>5.000000</td>\n",
       "      <td>600.000000</td>\n",
       "      <td>2.000000</td>\n",
       "      <td>3.000000</td>\n",
       "      <td>0.750000</td>\n",
       "    </tr>\n",
       "    <tr>\n",
       "      <th>max</th>\n",
       "      <td>16.000000</td>\n",
       "      <td>591723.000000</td>\n",
       "      <td>47.000000</td>\n",
       "      <td>91.000000</td>\n",
       "      <td>18.740000</td>\n",
       "    </tr>\n",
       "  </tbody>\n",
       "</table>\n",
       "</div>"
      ],
      "text/plain": [
       "       accommodates          price      bedrooms          beds  \\\n",
       "count  24886.000000   24886.000000  24886.000000  24886.000000   \n",
       "mean       4.146709     745.243350      1.606847      2.583581   \n",
       "std        2.452878    4983.150977      1.131133      2.224452   \n",
       "min        0.000000       0.000000      0.000000      0.000000   \n",
       "25%        2.000000     180.000000      1.000000      1.000000   \n",
       "50%        4.000000     300.000000      1.000000      2.000000   \n",
       "75%        5.000000     600.000000      2.000000      3.000000   \n",
       "max       16.000000  591723.000000     47.000000     91.000000   \n",
       "\n",
       "       reviews_per_month  \n",
       "count       24886.000000  \n",
       "mean            0.562298  \n",
       "std             0.920987  \n",
       "min             0.000000  \n",
       "25%             0.000000  \n",
       "50%             0.160000  \n",
       "75%             0.750000  \n",
       "max            18.740000  "
      ]
     },
     "execution_count": 9,
     "metadata": {},
     "output_type": "execute_result"
    },
    {
     "name": "stdout",
     "output_type": "stream",
     "text": [
      "<class 'pandas.core.frame.DataFrame'>\n",
      "RangeIndex: 24886 entries, 0 to 24885\n",
      "Data columns (total 6 columns):\n",
      " #   Column             Non-Null Count  Dtype   \n",
      "---  ------             --------------  -----   \n",
      " 0   room_type          24881 non-null  category\n",
      " 1   accommodates       24886 non-null  int64   \n",
      " 2   price              24886 non-null  float64 \n",
      " 3   bedrooms           24886 non-null  int64   \n",
      " 4   beds               24886 non-null  int64   \n",
      " 5   reviews_per_month  24886 non-null  float64 \n",
      "dtypes: category(1), float64(2), int64(3)\n",
      "memory usage: 996.7 KB\n"
     ]
    }
   ],
   "source": [
    "#removing unwanted columns for problem statement 1 : Larger properties should receive more review as per accomodation\n",
    "#columns defining larger property are filtered\n",
    "#Categorical columns - \"room_type\" to One Hot encoding + get_dummies for further calculations\n",
    "df['property_type'].value_counts() \n",
    "df['room_type'].value_counts() \n",
    "# here we choose Room_type for further evaluation as explained in the report\n",
    "\n",
    "df1 = df[['room_type','accommodates','price','bedrooms', 'beds', 'reviews_per_month']]\n",
    "\n",
    "          #'review_scores_rating', 'review_scores_accuracy', 'review_scores_cleanliness',\n",
    "          #'review_scores_checkin', 'review_scores_communication', 'review_scores_location', \n",
    "          #'review_scores_value','instant_bookable', \n",
    "          #'reviews_per_month']]\n",
    "\n",
    "        \n",
    "df1.describe()\n",
    "df1.info()"
   ]
  },
  {
   "cell_type": "code",
   "execution_count": 10,
   "id": "7e5be859",
   "metadata": {
    "scrolled": true
   },
   "outputs": [
    {
     "data": {
      "text/plain": [
       "room_type               5\n",
       "accommodates           17\n",
       "price                1663\n",
       "bedrooms               19\n",
       "beds                   41\n",
       "reviews_per_month     569\n",
       "dtype: int64"
      ]
     },
     "execution_count": 10,
     "metadata": {},
     "output_type": "execute_result"
    },
    {
     "name": "stdout",
     "output_type": "stream",
     "text": [
      "accommodates                   3.00\n",
      "price                        420.00\n",
      "bedrooms                       1.00\n",
      "beds                           2.00\n",
      "reviews_per_month              0.75\n",
      "room_type_Entire home/apt      0.00\n",
      "room_type_Hotel room           0.00\n",
      "room_type_Private room         0.00\n",
      "room_type_Shared room          0.00\n",
      "dtype: float64\n"
     ]
    },
    {
     "data": {
      "text/plain": [
       "(14253, 9)"
      ]
     },
     "execution_count": 10,
     "metadata": {},
     "output_type": "execute_result"
    },
    {
     "data": {
      "text/html": [
       "<div>\n",
       "<style scoped>\n",
       "    .dataframe tbody tr th:only-of-type {\n",
       "        vertical-align: middle;\n",
       "    }\n",
       "\n",
       "    .dataframe tbody tr th {\n",
       "        vertical-align: top;\n",
       "    }\n",
       "\n",
       "    .dataframe thead th {\n",
       "        text-align: right;\n",
       "    }\n",
       "</style>\n",
       "<table border=\"1\" class=\"dataframe\">\n",
       "  <thead>\n",
       "    <tr style=\"text-align: right;\">\n",
       "      <th></th>\n",
       "      <th>accommodates</th>\n",
       "      <th>price</th>\n",
       "      <th>bedrooms</th>\n",
       "      <th>beds</th>\n",
       "      <th>reviews_per_month</th>\n",
       "      <th>room_type_Entire home/apt</th>\n",
       "      <th>room_type_Hotel room</th>\n",
       "      <th>room_type_Private room</th>\n",
       "      <th>room_type_Shared room</th>\n",
       "    </tr>\n",
       "  </thead>\n",
       "  <tbody>\n",
       "    <tr>\n",
       "      <th>count</th>\n",
       "      <td>14253.000000</td>\n",
       "      <td>14253.000000</td>\n",
       "      <td>14253.000000</td>\n",
       "      <td>14253.000000</td>\n",
       "      <td>14253.000000</td>\n",
       "      <td>14253.0</td>\n",
       "      <td>14253.0</td>\n",
       "      <td>14253.0</td>\n",
       "      <td>14253.0</td>\n",
       "    </tr>\n",
       "    <tr>\n",
       "      <th>mean</th>\n",
       "      <td>4.060198</td>\n",
       "      <td>398.115976</td>\n",
       "      <td>1.516312</td>\n",
       "      <td>2.401319</td>\n",
       "      <td>0.428331</td>\n",
       "      <td>1.0</td>\n",
       "      <td>0.0</td>\n",
       "      <td>0.0</td>\n",
       "      <td>0.0</td>\n",
       "    </tr>\n",
       "    <tr>\n",
       "      <th>std</th>\n",
       "      <td>1.529629</td>\n",
       "      <td>261.731338</td>\n",
       "      <td>0.800797</td>\n",
       "      <td>1.255648</td>\n",
       "      <td>0.500254</td>\n",
       "      <td>0.0</td>\n",
       "      <td>0.0</td>\n",
       "      <td>0.0</td>\n",
       "      <td>0.0</td>\n",
       "    </tr>\n",
       "    <tr>\n",
       "      <th>min</th>\n",
       "      <td>0.000000</td>\n",
       "      <td>0.000000</td>\n",
       "      <td>0.000000</td>\n",
       "      <td>0.000000</td>\n",
       "      <td>0.000000</td>\n",
       "      <td>1.0</td>\n",
       "      <td>0.0</td>\n",
       "      <td>0.0</td>\n",
       "      <td>0.0</td>\n",
       "    </tr>\n",
       "    <tr>\n",
       "      <th>25%</th>\n",
       "      <td>3.000000</td>\n",
       "      <td>200.000000</td>\n",
       "      <td>1.000000</td>\n",
       "      <td>1.000000</td>\n",
       "      <td>0.000000</td>\n",
       "      <td>1.0</td>\n",
       "      <td>0.0</td>\n",
       "      <td>0.0</td>\n",
       "      <td>0.0</td>\n",
       "    </tr>\n",
       "    <tr>\n",
       "      <th>50%</th>\n",
       "      <td>4.000000</td>\n",
       "      <td>309.000000</td>\n",
       "      <td>1.000000</td>\n",
       "      <td>2.000000</td>\n",
       "      <td>0.210000</td>\n",
       "      <td>1.0</td>\n",
       "      <td>0.0</td>\n",
       "      <td>0.0</td>\n",
       "      <td>0.0</td>\n",
       "    </tr>\n",
       "    <tr>\n",
       "      <th>75%</th>\n",
       "      <td>5.000000</td>\n",
       "      <td>500.000000</td>\n",
       "      <td>2.000000</td>\n",
       "      <td>3.000000</td>\n",
       "      <td>0.710000</td>\n",
       "      <td>1.0</td>\n",
       "      <td>0.0</td>\n",
       "      <td>0.0</td>\n",
       "      <td>0.0</td>\n",
       "    </tr>\n",
       "    <tr>\n",
       "      <th>max</th>\n",
       "      <td>9.000000</td>\n",
       "      <td>1230.000000</td>\n",
       "      <td>3.000000</td>\n",
       "      <td>6.000000</td>\n",
       "      <td>1.870000</td>\n",
       "      <td>1.0</td>\n",
       "      <td>0.0</td>\n",
       "      <td>0.0</td>\n",
       "      <td>0.0</td>\n",
       "    </tr>\n",
       "  </tbody>\n",
       "</table>\n",
       "</div>"
      ],
      "text/plain": [
       "       accommodates         price      bedrooms          beds  \\\n",
       "count  14253.000000  14253.000000  14253.000000  14253.000000   \n",
       "mean       4.060198    398.115976      1.516312      2.401319   \n",
       "std        1.529629    261.731338      0.800797      1.255648   \n",
       "min        0.000000      0.000000      0.000000      0.000000   \n",
       "25%        3.000000    200.000000      1.000000      1.000000   \n",
       "50%        4.000000    309.000000      1.000000      2.000000   \n",
       "75%        5.000000    500.000000      2.000000      3.000000   \n",
       "max        9.000000   1230.000000      3.000000      6.000000   \n",
       "\n",
       "       reviews_per_month  room_type_Entire home/apt  room_type_Hotel room  \\\n",
       "count       14253.000000                    14253.0               14253.0   \n",
       "mean            0.428331                        1.0                   0.0   \n",
       "std             0.500254                        0.0                   0.0   \n",
       "min             0.000000                        1.0                   0.0   \n",
       "25%             0.000000                        1.0                   0.0   \n",
       "50%             0.210000                        1.0                   0.0   \n",
       "75%             0.710000                        1.0                   0.0   \n",
       "max             1.870000                        1.0                   0.0   \n",
       "\n",
       "       room_type_Private room  room_type_Shared room  \n",
       "count                 14253.0                14253.0  \n",
       "mean                      0.0                    0.0  \n",
       "std                       0.0                    0.0  \n",
       "min                       0.0                    0.0  \n",
       "25%                       0.0                    0.0  \n",
       "50%                       0.0                    0.0  \n",
       "75%                       0.0                    0.0  \n",
       "max                       0.0                    0.0  "
      ]
     },
     "execution_count": 10,
     "metadata": {},
     "output_type": "execute_result"
    }
   ],
   "source": [
    "#one hot encoding for categorical variable room_type\n",
    "df1.apply(lambda col: len(col.unique()))\n",
    "col = [\"room_type\"] \n",
    "df1_ohe = pd.get_dummies(df1, columns = col, drop_first=False)\n",
    "\n",
    "# Removing outliers\n",
    "Q1 = df1_ohe.quantile(0.25)\n",
    "Q3 = df1_ohe.quantile(0.75)\n",
    "IQR = Q3-Q1\n",
    "\n",
    "print(IQR)\n",
    "#deleting outliers\n",
    "df_clean = df1_ohe[~((df1_ohe < (Q1-1.5*IQR)) | (df1_ohe > (Q3+1.5*IQR))).any(axis=1)]\n",
    "df_clean.shape\n",
    " \n",
    "    \n",
    "df_clean.describe()\n",
    "\n",
    "#for linear regression\n",
    "dfx = df[['room_type','accommodates','price','bedrooms', 'beds',\n",
    "           'review_scores_rating', 'review_scores_accuracy', 'review_scores_cleanliness',\n",
    "          'review_scores_checkin', 'review_scores_communication', 'review_scores_location', \n",
    "          'review_scores_value', 'reviews_per_month']]\n",
    "dfx = pd.get_dummies(dfx, columns = col, drop_first=False)"
   ]
  },
  {
   "cell_type": "markdown",
   "id": "ac455f04",
   "metadata": {},
   "source": [
    "# Data Visualization"
   ]
  },
  {
   "cell_type": "code",
   "execution_count": 11,
   "id": "d72d3a1f",
   "metadata": {
    "scrolled": true
   },
   "outputs": [
    {
     "data": {
      "text/plain": [
       "array([[<AxesSubplot:title={'center':'accommodates'}>,\n",
       "        <AxesSubplot:title={'center':'price'}>,\n",
       "        <AxesSubplot:title={'center':'bedrooms'}>],\n",
       "       [<AxesSubplot:title={'center':'beds'}>,\n",
       "        <AxesSubplot:title={'center':'reviews_per_month'}>,\n",
       "        <AxesSubplot:title={'center':'room_type_Entire home/apt'}>],\n",
       "       [<AxesSubplot:title={'center':'room_type_Hotel room'}>,\n",
       "        <AxesSubplot:title={'center':'room_type_Private room'}>,\n",
       "        <AxesSubplot:title={'center':'room_type_Shared room'}>]],\n",
       "      dtype=object)"
      ]
     },
     "execution_count": 11,
     "metadata": {},
     "output_type": "execute_result"
    },
    {
     "data": {
      "image/png": "[encoded data removed]",
      "text/plain": [
       "<Figure size 576x504 with 9 Axes>"
      ]
     },
     "metadata": {
      "needs_background": "light"
     },
     "output_type": "display_data"
    }
   ],
   "source": [
    "#Visualizing distribution of data for each filtered column in histograms\n",
    "df_clean.hist(bins=20, figsize=(8,7))\n",
    "plt.show()"
   ]
  },
  {
   "cell_type": "code",
   "execution_count": 12,
   "id": "2ae414a1",
   "metadata": {},
   "outputs": [
    {
     "name": "stderr",
     "output_type": "stream",
     "text": [
      "/Users/apple/opt/anaconda3/lib/python3.9/site-packages/seaborn/distributions.py:2619: FutureWarning: `distplot` is a deprecated function and will be removed in a future version. Please adapt your code to use either `displot` (a figure-level function with similar flexibility) or `histplot` (an axes-level function for histograms).\n",
      "  warnings.warn(msg, FutureWarning)\n"
     ]
    },
    {
     "data": {
      "text/plain": [
       "<AxesSubplot:ylabel='Density'>"
      ]
     },
     "execution_count": 12,
     "metadata": {},
     "output_type": "execute_result"
    },
    {
     "data": {
      "image/png": "[encoded data removed]",
      "text/plain": [
       "<Figure size 432x288 with 1 Axes>"
      ]
     },
     "metadata": {
      "needs_background": "light"
     },
     "output_type": "display_data"
    },
    {
     "data": {
      "image/png": "[encoded data removed]",
      "text/plain": [
       "<Figure size 432x288 with 1 Axes>"
      ]
     },
     "metadata": {
      "needs_background": "light"
     },
     "output_type": "display_data"
    }
   ],
   "source": [
    "from scipy.stats import norm\n",
    "from scipy import stats\n",
    "sns.distplot(df_clean,fit=norm)\n",
    "fig = plt.figure()\n",
    "res = stats.probplot(df_clean['reviews_per_month'],plot =plt)"
   ]
  },
  {
   "cell_type": "code",
   "execution_count": 13,
   "id": "5ee074c1",
   "metadata": {},
   "outputs": [
    {
     "data": {
      "text/plain": [
       "<AxesSubplot:title={'center':'Room type vs Reviews per month'}, xlabel='Room types', ylabel='Reviews per momth'>"
      ]
     },
     "execution_count": 13,
     "metadata": {},
     "output_type": "execute_result"
    },
    {
     "data": {
      "image/png": "[encoded data removed]",
      "text/plain": [
       "<Figure size 432x360 with 1 Axes>"
      ]
     },
     "metadata": {
      "needs_background": "light"
     },
     "output_type": "display_data"
    }
   ],
   "source": [
    "g = df1.groupby(['room_type'])['reviews_per_month'].mean()\n",
    "g.plot(kind='bar', title='Room type vs Reviews per month', ylabel='Reviews per momth',\n",
    "         xlabel='Room types', figsize=(6, 5))"
   ]
  },
  {
   "cell_type": "code",
   "execution_count": 14,
   "id": "6fa8a5c3",
   "metadata": {
    "scrolled": false
   },
   "outputs": [
    {
     "data": {
      "text/plain": [
       "<AxesSubplot:title={'center':'Roomtype vs accomodation capacity'}, xlabel='Room types', ylabel='Accomodations'>"
      ]
     },
     "execution_count": 14,
     "metadata": {},
     "output_type": "execute_result"
    },
    {
     "data": {
      "image/png": "[encoded data removed]",
      "text/plain": [
       "<Figure size 432x360 with 1 Axes>"
      ]
     },
     "metadata": {
      "needs_background": "light"
     },
     "output_type": "display_data"
    }
   ],
   "source": [
    "g = df1.groupby(['room_type'])['accommodates'].mean()\n",
    "g.plot(kind='bar', title='Roomtype vs accomodation capacity', ylabel='Accomodations',\n",
    "         xlabel='Room types', figsize=(6, 5))"
   ]
  },
  {
   "cell_type": "code",
   "execution_count": 15,
   "id": "0bcc9e44",
   "metadata": {},
   "outputs": [
    {
     "data": {
      "text/plain": [
       "<AxesSubplot:title={'center':'Property Prices'}, xlabel='Room Types', ylabel='Prices'>"
      ]
     },
     "execution_count": 15,
     "metadata": {},
     "output_type": "execute_result"
    },
    {
     "data": {
      "image/png": "[encoded data removed]",
      "text/plain": [
       "<Figure size 432x360 with 1 Axes>"
      ]
     },
     "metadata": {
      "needs_background": "light"
     },
     "output_type": "display_data"
    }
   ],
   "source": [
    "g = df1.groupby(['room_type'])['price'].mean()\n",
    "g.plot(kind='bar', title='Property Prices', ylabel='Prices',\n",
    "         xlabel='Room Types', figsize=(6, 5))"
   ]
  },
  {
   "cell_type": "code",
   "execution_count": 18,
   "id": "86d39776",
   "metadata": {},
   "outputs": [
    {
     "data": {
      "text/plain": [
       "<AxesSubplot:>"
      ]
     },
     "execution_count": 18,
     "metadata": {},
     "output_type": "execute_result"
    },
    {
     "data": {
      "image/png": "[encoded data removed]",
      "text/plain": [
       "<Figure size 432x288 with 2 Axes>"
      ]
     },
     "metadata": {
      "needs_background": "light"
     },
     "output_type": "display_data"
    }
   ],
   "source": [
    "corr = df1_ohe[['room_type_Entire home/apt','room_type_Hotel room','room_type_Private room','room_type_Shared room','accommodates','price','reviews_per_month', ]].corr()\n",
    "sns.heatmap(corr, annot=True)\n",
    "plt.show()"
   ]
  },
  {
   "cell_type": "code",
   "execution_count": 19,
   "id": "7216add7",
   "metadata": {},
   "outputs": [
    {
     "data": {
      "text/plain": [
       "<AxesSubplot:title={'center':'Top 20 Reviews per month by property type'}, xlabel='Room Types', ylabel='Reviews '>"
      ]
     },
     "execution_count": 19,
     "metadata": {},
     "output_type": "execute_result"
    },
    {
     "data": {
      "image/png": "[encoded data removed]",
      "text/plain": [
       "<Figure size 720x720 with 1 Axes>"
      ]
     },
     "metadata": {
      "needs_background": "light"
     },
     "output_type": "display_data"
    }
   ],
   "source": [
    "g= df1.groupby('room_type')['reviews_per_month'].mean().nlargest()\n",
    "g.plot(kind='bar', title='Top 20 Reviews per month by property type', ylabel='Reviews ',\n",
    "         xlabel='Room Types', figsize=(10, 10), legend=True)"
   ]
  },
  {
   "cell_type": "markdown",
   "id": "16334b1c",
   "metadata": {},
   "source": [
    "# Prediction model - Regressive OLS and Variable Evaluation - R-square and Residual Standard Error"
   ]
  },
  {
   "cell_type": "code",
   "execution_count": 20,
   "id": "99c2853e",
   "metadata": {},
   "outputs": [
    {
     "name": "stdout",
     "output_type": "stream",
     "text": [
      "Requirement already satisfied: mlxtend in /Users/apple/opt/anaconda3/envs/py3/lib/python3.9/site-packages (0.21.0)\n",
      "Requirement already satisfied: scipy>=1.2.1 in /Users/apple/opt/anaconda3/envs/py3/lib/python3.9/site-packages (from mlxtend) (1.7.3)\n",
      "Requirement already satisfied: numpy>=1.16.2 in /Users/apple/opt/anaconda3/envs/py3/lib/python3.9/site-packages (from mlxtend) (1.20.3)\n",
      "Requirement already satisfied: scikit-learn>=1.0.2 in /Users/apple/opt/anaconda3/envs/py3/lib/python3.9/site-packages (from mlxtend) (1.2.0)\n",
      "Requirement already satisfied: matplotlib>=3.0.0 in /Users/apple/opt/anaconda3/envs/py3/lib/python3.9/site-packages (from mlxtend) (3.4.3)\n",
      "Requirement already satisfied: joblib>=0.13.2 in /Users/apple/opt/anaconda3/envs/py3/lib/python3.9/site-packages (from mlxtend) (1.2.0)\n",
      "Requirement already satisfied: pandas>=0.24.2 in /Users/apple/opt/anaconda3/envs/py3/lib/python3.9/site-packages (from mlxtend) (1.5.2)\n",
      "Requirement already satisfied: setuptools in /Users/apple/opt/anaconda3/envs/py3/lib/python3.9/site-packages (from mlxtend) (58.0.4)\n",
      "Requirement already satisfied: cycler>=0.10 in /Users/apple/opt/anaconda3/envs/py3/lib/python3.9/site-packages (from matplotlib>=3.0.0->mlxtend) (0.10.0)\n",
      "Requirement already satisfied: kiwisolver>=1.0.1 in /Users/apple/opt/anaconda3/envs/py3/lib/python3.9/site-packages (from matplotlib>=3.0.0->mlxtend) (1.3.1)\n",
      "Requirement already satisfied: python-dateutil>=2.7 in /Users/apple/opt/anaconda3/envs/py3/lib/python3.9/site-packages (from matplotlib>=3.0.0->mlxtend) (2.8.2)\n",
      "Requirement already satisfied: pyparsing>=2.2.1 in /Users/apple/opt/anaconda3/envs/py3/lib/python3.9/site-packages (from matplotlib>=3.0.0->mlxtend) (3.0.4)\n",
      "Requirement already satisfied: pillow>=6.2.0 in /Users/apple/opt/anaconda3/envs/py3/lib/python3.9/site-packages (from matplotlib>=3.0.0->mlxtend) (8.4.0)\n",
      "Requirement already satisfied: six in /Users/apple/opt/anaconda3/envs/py3/lib/python3.9/site-packages (from cycler>=0.10->matplotlib>=3.0.0->mlxtend) (1.16.0)\n",
      "Requirement already satisfied: pytz>=2020.1 in /Users/apple/opt/anaconda3/envs/py3/lib/python3.9/site-packages (from pandas>=0.24.2->mlxtend) (2021.3)\n",
      "Requirement already satisfied: threadpoolctl>=2.0.0 in /Users/apple/opt/anaconda3/envs/py3/lib/python3.9/site-packages (from scikit-learn>=1.0.2->mlxtend) (2.2.0)\n",
      "Requirement already satisfied: statsmodels in /Users/apple/opt/anaconda3/envs/py3/lib/python3.9/site-packages (0.13.5)\n",
      "Requirement already satisfied: pandas>=0.25 in /Users/apple/opt/anaconda3/envs/py3/lib/python3.9/site-packages (from statsmodels) (1.5.2)\n",
      "Requirement already satisfied: patsy>=0.5.2 in /Users/apple/opt/anaconda3/envs/py3/lib/python3.9/site-packages (from statsmodels) (0.5.2)\n",
      "Requirement already satisfied: numpy>=1.17 in /Users/apple/opt/anaconda3/envs/py3/lib/python3.9/site-packages (from statsmodels) (1.20.3)\n",
      "Requirement already satisfied: scipy>=1.3 in /Users/apple/opt/anaconda3/envs/py3/lib/python3.9/site-packages (from statsmodels) (1.7.3)\n",
      "Requirement already satisfied: packaging>=21.3 in /Users/apple/opt/anaconda3/envs/py3/lib/python3.9/site-packages (from statsmodels) (22.0)\n",
      "Requirement already satisfied: pytz>=2020.1 in /Users/apple/opt/anaconda3/envs/py3/lib/python3.9/site-packages (from pandas>=0.25->statsmodels) (2021.3)\n",
      "Requirement already satisfied: python-dateutil>=2.8.1 in /Users/apple/opt/anaconda3/envs/py3/lib/python3.9/site-packages (from pandas>=0.25->statsmodels) (2.8.2)\n",
      "Requirement already satisfied: six in /Users/apple/opt/anaconda3/envs/py3/lib/python3.9/site-packages (from patsy>=0.5.2->statsmodels) (1.16.0)\n",
      "Requirement already satisfied: scikit-learn in /Users/apple/opt/anaconda3/envs/py3/lib/python3.9/site-packages (1.2.0)\n",
      "Requirement already satisfied: scipy>=1.3.2 in /Users/apple/opt/anaconda3/envs/py3/lib/python3.9/site-packages (from scikit-learn) (1.7.3)\n",
      "Requirement already satisfied: joblib>=1.1.1 in /Users/apple/opt/anaconda3/envs/py3/lib/python3.9/site-packages (from scikit-learn) (1.2.0)\n",
      "Requirement already satisfied: numpy>=1.17.3 in /Users/apple/opt/anaconda3/envs/py3/lib/python3.9/site-packages (from scikit-learn) (1.20.3)\n",
      "Requirement already satisfied: threadpoolctl>=2.0.0 in /Users/apple/opt/anaconda3/envs/py3/lib/python3.9/site-packages (from scikit-learn) (2.2.0)\n"
     ]
    }
   ],
   "source": [
    "! pip install -U mlxtend\n",
    "! pip install -U statsmodels\n",
    "! pip install -U scikit-learn"
   ]
  },
  {
   "cell_type": "markdown",
   "id": "a68b0bcc",
   "metadata": {},
   "source": [
    "# OLS Regression"
   ]
  },
  {
   "cell_type": "code",
   "execution_count": 21,
   "id": "70339954",
   "metadata": {},
   "outputs": [],
   "source": [
    "import statsmodels.api as sm\n",
    "from itertools import cycle\n",
    "from tqdm.auto import tqdm"
   ]
  },
  {
   "cell_type": "code",
   "execution_count": 22,
   "id": "747918cd",
   "metadata": {},
   "outputs": [],
   "source": [
    "y = df_clean[\"reviews_per_month\"]\n",
    "X = df_clean.drop([\"reviews_per_month\"], axis=1)"
   ]
  },
  {
   "cell_type": "code",
   "execution_count": 23,
   "id": "29560819",
   "metadata": {},
   "outputs": [
    {
     "name": "stderr",
     "output_type": "stream",
     "text": [
      "/Users/apple/opt/anaconda3/lib/python3.9/site-packages/statsmodels/tsa/tsatools.py:142: FutureWarning: In a future version of pandas all arguments of concat except for the argument 'objs' will be keyword-only\n",
      "  x = pd.concat(x[::order], 1)\n"
     ]
    },
    {
     "data": {
      "text/plain": [
       "accommodates                 0.013345\n",
       "price                       -0.000574\n",
       "bedrooms                    -0.019408\n",
       "beds                         0.021471\n",
       "room_type_Entire home/apt    0.580648\n",
       "room_type_Hotel room         0.000000\n",
       "room_type_Private room       0.000000\n",
       "room_type_Shared room        0.000000\n",
       "dtype: float64"
      ]
     },
     "execution_count": 23,
     "metadata": {},
     "output_type": "execute_result"
    },
    {
     "name": "stderr",
     "output_type": "stream",
     "text": [
      "/Users/apple/opt/anaconda3/lib/python3.9/site-packages/statsmodels/regression/linear_model.py:1860: RuntimeWarning: divide by zero encountered in double_scalars\n",
      "  return np.sqrt(eigvals[0]/eigvals[-1])\n"
     ]
    },
    {
     "data": {
      "text/html": [
       "<table class=\"simpletable\">\n",
       "<caption>OLS Regression Results</caption>\n",
       "<tr>\n",
       "  <th>Dep. Variable:</th>    <td>reviews_per_month</td> <th>  R-squared:         </th> <td>   0.087</td> \n",
       "</tr>\n",
       "<tr>\n",
       "  <th>Model:</th>                   <td>OLS</td>        <th>  Adj. R-squared:    </th> <td>   0.086</td> \n",
       "</tr>\n",
       "<tr>\n",
       "  <th>Method:</th>             <td>Least Squares</td>   <th>  F-statistic:       </th> <td>   337.3</td> \n",
       "</tr>\n",
       "<tr>\n",
       "  <th>Date:</th>             <td>Fri, 16 Dec 2022</td>  <th>  Prob (F-statistic):</th> <td>6.78e-278</td>\n",
       "</tr>\n",
       "<tr>\n",
       "  <th>Time:</th>                 <td>23:32:57</td>      <th>  Log-Likelihood:    </th> <td> -9706.6</td> \n",
       "</tr>\n",
       "<tr>\n",
       "  <th>No. Observations:</th>      <td> 14253</td>       <th>  AIC:               </th> <td>1.942e+04</td>\n",
       "</tr>\n",
       "<tr>\n",
       "  <th>Df Residuals:</th>          <td> 14248</td>       <th>  BIC:               </th> <td>1.946e+04</td>\n",
       "</tr>\n",
       "<tr>\n",
       "  <th>Df Model:</th>              <td>     4</td>       <th>                     </th>     <td> </td>    \n",
       "</tr>\n",
       "<tr>\n",
       "  <th>Covariance Type:</th>      <td>nonrobust</td>     <th>                     </th>     <td> </td>    \n",
       "</tr>\n",
       "</table>\n",
       "<table class=\"simpletable\">\n",
       "<tr>\n",
       "              <td></td>                 <th>coef</th>     <th>std err</th>      <th>t</th>      <th>P>|t|</th>  <th>[0.025</th>    <th>0.975]</th>  \n",
       "</tr>\n",
       "<tr>\n",
       "  <th>accommodates</th>              <td>    0.0133</td> <td>    0.004</td> <td>    3.420</td> <td> 0.001</td> <td>    0.006</td> <td>    0.021</td>\n",
       "</tr>\n",
       "<tr>\n",
       "  <th>price</th>                     <td>   -0.0006</td> <td> 1.72e-05</td> <td>  -33.451</td> <td> 0.000</td> <td>   -0.001</td> <td>   -0.001</td>\n",
       "</tr>\n",
       "<tr>\n",
       "  <th>bedrooms</th>                  <td>   -0.0194</td> <td>    0.007</td> <td>   -2.716</td> <td> 0.007</td> <td>   -0.033</td> <td>   -0.005</td>\n",
       "</tr>\n",
       "<tr>\n",
       "  <th>beds</th>                      <td>    0.0215</td> <td>    0.004</td> <td>    4.856</td> <td> 0.000</td> <td>    0.013</td> <td>    0.030</td>\n",
       "</tr>\n",
       "<tr>\n",
       "  <th>room_type_Entire home/apt</th> <td>    0.5806</td> <td>    0.012</td> <td>   49.776</td> <td> 0.000</td> <td>    0.558</td> <td>    0.604</td>\n",
       "</tr>\n",
       "<tr>\n",
       "  <th>room_type_Hotel room</th>      <td>         0</td> <td>        0</td> <td>      nan</td> <td>   nan</td> <td>        0</td> <td>        0</td>\n",
       "</tr>\n",
       "<tr>\n",
       "  <th>room_type_Private room</th>    <td>         0</td> <td>        0</td> <td>      nan</td> <td>   nan</td> <td>        0</td> <td>        0</td>\n",
       "</tr>\n",
       "<tr>\n",
       "  <th>room_type_Shared room</th>     <td>         0</td> <td>        0</td> <td>      nan</td> <td>   nan</td> <td>        0</td> <td>        0</td>\n",
       "</tr>\n",
       "</table>\n",
       "<table class=\"simpletable\">\n",
       "<tr>\n",
       "  <th>Omnibus:</th>       <td>1955.177</td> <th>  Durbin-Watson:     </th> <td>   1.921</td>\n",
       "</tr>\n",
       "<tr>\n",
       "  <th>Prob(Omnibus):</th>  <td> 0.000</td>  <th>  Jarque-Bera (JB):  </th> <td>2859.681</td>\n",
       "</tr>\n",
       "<tr>\n",
       "  <th>Skew:</th>           <td> 1.081</td>  <th>  Prob(JB):          </th> <td>    0.00</td>\n",
       "</tr>\n",
       "<tr>\n",
       "  <th>Kurtosis:</th>       <td> 3.377</td>  <th>  Cond. No.          </th> <td>     inf</td>\n",
       "</tr>\n",
       "</table><br/><br/>Notes:<br/>[1] Standard Errors assume that the covariance matrix of the errors is correctly specified.<br/>[2] The smallest eigenvalue is      0. This might indicate that there are<br/>strong multicollinearity problems or that the design matrix is singular."
      ],
      "text/plain": [
       "<class 'statsmodels.iolib.summary.Summary'>\n",
       "\"\"\"\n",
       "                            OLS Regression Results                            \n",
       "==============================================================================\n",
       "Dep. Variable:      reviews_per_month   R-squared:                       0.087\n",
       "Model:                            OLS   Adj. R-squared:                  0.086\n",
       "Method:                 Least Squares   F-statistic:                     337.3\n",
       "Date:                Fri, 16 Dec 2022   Prob (F-statistic):          6.78e-278\n",
       "Time:                        23:32:57   Log-Likelihood:                -9706.6\n",
       "No. Observations:               14253   AIC:                         1.942e+04\n",
       "Df Residuals:                   14248   BIC:                         1.946e+04\n",
       "Df Model:                           4                                         \n",
       "Covariance Type:            nonrobust                                         \n",
       "=============================================================================================\n",
       "                                coef    std err          t      P>|t|      [0.025      0.975]\n",
       "---------------------------------------------------------------------------------------------\n",
       "accommodates                  0.0133      0.004      3.420      0.001       0.006       0.021\n",
       "price                        -0.0006   1.72e-05    -33.451      0.000      -0.001      -0.001\n",
       "bedrooms                     -0.0194      0.007     -2.716      0.007      -0.033      -0.005\n",
       "beds                          0.0215      0.004      4.856      0.000       0.013       0.030\n",
       "room_type_Entire home/apt     0.5806      0.012     49.776      0.000       0.558       0.604\n",
       "room_type_Hotel room               0          0        nan        nan           0           0\n",
       "room_type_Private room             0          0        nan        nan           0           0\n",
       "room_type_Shared room              0          0        nan        nan           0           0\n",
       "==============================================================================\n",
       "Omnibus:                     1955.177   Durbin-Watson:                   1.921\n",
       "Prob(Omnibus):                  0.000   Jarque-Bera (JB):             2859.681\n",
       "Skew:                           1.081   Prob(JB):                         0.00\n",
       "Kurtosis:                       3.377   Cond. No.                          inf\n",
       "==============================================================================\n",
       "\n",
       "Notes:\n",
       "[1] Standard Errors assume that the covariance matrix of the errors is correctly specified.\n",
       "[2] The smallest eigenvalue is      0. This might indicate that there are\n",
       "strong multicollinearity problems or that the design matrix is singular.\n",
       "\"\"\""
      ]
     },
     "execution_count": 23,
     "metadata": {},
     "output_type": "execute_result"
    }
   ],
   "source": [
    "X = sm.add_constant(X) \n",
    "full_model = sm.OLS(y, X).fit()\n",
    "full_model.params\n",
    "full_model.summary()"
   ]
  },
  {
   "cell_type": "markdown",
   "id": "bd410c0f",
   "metadata": {},
   "source": [
    "# OLS with multiple explanatory variables"
   ]
  },
  {
   "cell_type": "code",
   "execution_count": 24,
   "id": "beee6969",
   "metadata": {},
   "outputs": [
    {
     "name": "stdout",
     "output_type": "stream",
     "text": [
      "Intercept    0.569051\n",
      "price       -0.000009\n",
      "dtype: float64\n",
      "room_type[Entire home/apt]    0.624378\n",
      "room_type[Hotel room]         0.763433\n",
      "room_type[Private room]       0.368180\n",
      "room_type[Shared room]        0.155022\n",
      "dtype: float64\n",
      "room_type[Entire home/apt]    0.631841\n",
      "room_type[Hotel room]         0.772553\n",
      "room_type[Private room]       0.372469\n",
      "room_type[Shared room]        0.171751\n",
      "price                        -0.000009\n",
      "dtype: float64\n",
      "room_type[Entire home/apt]    0.631841\n",
      "room_type[Hotel room]         0.772553\n",
      "room_type[Private room]       0.372469\n",
      "room_type[Shared room]        0.171751\n",
      "price                        -0.000009\n",
      "dtype: float64\n"
     ]
    }
   ],
   "source": [
    "from statsmodels.formula.api import ols\n",
    "full_model = ols(\"reviews_per_month ~ price\",data= df1).fit()\n",
    "print(full_model.params)\n",
    "full_model2 = ols(\"reviews_per_month ~ room_type +0\",data= df1).fit()\n",
    "print(full_model2.params)\n",
    "\n",
    "model = ols(\"reviews_per_month ~ price + room_type +0\",data= df1).fit()\n",
    "print(model.params)\n",
    "coeffs = model.params\n",
    "print(coeffs)\n",
    "rt_entirehome, rt_hotel, rt_private, rt_shared, slope = coeffs"
   ]
  },
  {
   "cell_type": "code",
   "execution_count": 25,
   "id": "08b3d981",
   "metadata": {},
   "outputs": [
    {
     "data": {
      "text/plain": [
       "<AxesSubplot:xlabel='price', ylabel='reviews_per_month'>"
      ]
     },
     "execution_count": 25,
     "metadata": {},
     "output_type": "execute_result"
    },
    {
     "data": {
      "image/png": "[encoded data removed]",
      "text/plain": [
       "<Figure size 432x288 with 1 Axes>"
      ]
     },
     "metadata": {
      "needs_background": "light"
     },
     "output_type": "display_data"
    }
   ],
   "source": [
    "sns.regplot(x=\"price\", y=\"reviews_per_month\", data = df1, ci=None)\n",
    "plt.show()"
   ]
  },
  {
   "cell_type": "code",
   "execution_count": 26,
   "id": "b7881219",
   "metadata": {},
   "outputs": [
    {
     "data": {
      "text/plain": [
       "<AxesSubplot:xlabel='room_type', ylabel='reviews_per_month'>"
      ]
     },
     "execution_count": 26,
     "metadata": {},
     "output_type": "execute_result"
    },
    {
     "data": {
      "image/png": "[encoded data removed]",
      "text/plain": [
       "<Figure size 432x288 with 1 Axes>"
      ]
     },
     "metadata": {
      "needs_background": "light"
     },
     "output_type": "display_data"
    }
   ],
   "source": [
    "sns.boxplot(x=\"room_type\", y=\"reviews_per_month\", data = df1, showmeans=True)"
   ]
  },
  {
   "cell_type": "code",
   "execution_count": 27,
   "id": "c1ee6aed",
   "metadata": {},
   "outputs": [
    {
     "data": {
      "text/plain": [
       "<AxesSubplot:xlabel='price', ylabel='reviews_per_month'>"
      ]
     },
     "execution_count": 27,
     "metadata": {},
     "output_type": "execute_result"
    },
    {
     "data": {
      "text/plain": [
       "<matplotlib.lines._AxLine at 0x7fc1116d6e50>"
      ]
     },
     "execution_count": 27,
     "metadata": {},
     "output_type": "execute_result"
    },
    {
     "data": {
      "text/plain": [
       "<matplotlib.lines._AxLine at 0x7fc111791eb0>"
      ]
     },
     "execution_count": 27,
     "metadata": {},
     "output_type": "execute_result"
    },
    {
     "data": {
      "text/plain": [
       "<matplotlib.lines._AxLine at 0x7fc1117917f0>"
      ]
     },
     "execution_count": 27,
     "metadata": {},
     "output_type": "execute_result"
    },
    {
     "data": {
      "text/plain": [
       "<matplotlib.lines._AxLine at 0x7fc111791580>"
      ]
     },
     "execution_count": 27,
     "metadata": {},
     "output_type": "execute_result"
    },
    {
     "data": {
      "image/png": "[encoded data removed]",
      "text/plain": [
       "<Figure size 432x288 with 1 Axes>"
      ]
     },
     "metadata": {
      "needs_background": "light"
     },
     "output_type": "display_data"
    }
   ],
   "source": [
    "#drawing trendlines combined\n",
    "sns.scatterplot(x=\"price\",\n",
    "                y=\"reviews_per_month\",\n",
    "                hue=\"room_type\",\n",
    "                data=df1)\n",
    "\n",
    "# Add three parallel lines for each category of room_type\n",
    "# Color the line for rt_entirehome blue\n",
    "plt.axline(xy1=(0, rt_entirehome), slope=slope, color=\"blue\")\n",
    "# Color the line for rt_hotel orange\n",
    "plt.axline(xy1=(0, rt_hotel), slope=slope, color=\"orange\")\n",
    "# Color the line for rt_private green\n",
    "plt.axline(xy1=(0, rt_private), slope=slope, color=\"green\")\n",
    "# Color the line for rt_shared red\n",
    "plt.axline(xy1=(0, rt_shared), slope=slope, color=\"red\")\n",
    "plt.show()"
   ]
  },
  {
   "cell_type": "markdown",
   "id": "e3ca42fa",
   "metadata": {},
   "source": [
    "# Checking the R-squared and RSE values for each of above models built using OLS for multiple explanatory variables"
   ]
  },
  {
   "cell_type": "code",
   "execution_count": 28,
   "id": "7160f4c6",
   "metadata": {
    "scrolled": true
   },
   "outputs": [
    {
     "name": "stdout",
     "output_type": "stream",
     "text": [
      "R-squared for Price vs reviews per month model is : 0.002403825770026069\n",
      "R-squared for Category - roomtype vs reviews per monthmodel is : 0.016496073903080277\n",
      "R-squared for Multiple variable model is : 0.019050208272687774\n",
      "\n",
      "R-squared Adjusted for Price vs reviews per month model is : 0.0023637359060882934\n",
      "R-squared Adjusted for Category - roomtype vs reviews per month model is : 0.016377469900254682\n",
      "R-squared Adjusted for Multiple variable model is : 0.01889247394373994\n",
      "\n",
      "RSE for Price vs reviews per month model is : 0.8462114606767809\n",
      "RSE for Category - roomtype vs reviews per monthmodel is : 0.83442993851009\n",
      "RSE for Multiple variable model is : 0.8322964019092711\n"
     ]
    }
   ],
   "source": [
    "print(\"R-squared for Price vs reviews per month model is :\", full_model.rsquared)\n",
    "print(\"R-squared for Category - roomtype vs reviews per monthmodel is :\", full_model2.rsquared)\n",
    "print(\"R-squared for Multiple variable model is :\", model.rsquared)\n",
    "\n",
    "print(\"\\nR-squared Adjusted for Price vs reviews per month model is :\", full_model.rsquared_adj)\n",
    "print(\"R-squared Adjusted for Category - roomtype vs reviews per month model is :\", full_model2.rsquared_adj)\n",
    "print(\"R-squared Adjusted for Multiple variable model is :\", model.rsquared_adj)\n",
    "print(\"\\nRSE for Price vs reviews per month model is :\", full_model.mse_resid)\n",
    "print(\"RSE for Category - roomtype vs reviews per monthmodel is :\", full_model2.mse_resid)\n",
    "print(\"RSE for Multiple variable model is :\", model.mse_resid)"
   ]
  },
  {
   "cell_type": "markdown",
   "id": "abaaea6a",
   "metadata": {},
   "source": [
    "# Linear Regression with Sequential Feature Selector"
   ]
  },
  {
   "cell_type": "code",
   "execution_count": 29,
   "id": "4a8b30a5",
   "metadata": {},
   "outputs": [
    {
     "data": {
      "text/plain": [
       "(19908, 15)"
      ]
     },
     "execution_count": 29,
     "metadata": {},
     "output_type": "execute_result"
    },
    {
     "data": {
      "text/plain": [
       "(4978, 15)"
      ]
     },
     "execution_count": 29,
     "metadata": {},
     "output_type": "execute_result"
    },
    {
     "data": {
      "text/plain": [
       "(19908,)"
      ]
     },
     "execution_count": 29,
     "metadata": {},
     "output_type": "execute_result"
    },
    {
     "data": {
      "text/plain": [
       "(4978,)"
      ]
     },
     "execution_count": 29,
     "metadata": {},
     "output_type": "execute_result"
    }
   ],
   "source": [
    "from sklearn.model_selection import train_test_split\n",
    "from sklearn import preprocessing\n",
    "\n",
    "y = dfx['reviews_per_month']\n",
    "x = dfx.drop('reviews_per_month', axis = 1)\n",
    "x_train, x_test, y_train, y_test = train_test_split(x, y, test_size = 0.2, random_state = 0)\n",
    "x_train.shape\n",
    "x_test.shape\n",
    "y_train.shape\n",
    "y_test.shape"
   ]
  },
  {
   "cell_type": "code",
   "execution_count": 30,
   "id": "7aa2ec3e",
   "metadata": {},
   "outputs": [
    {
     "data": {
      "text/html": [
       "<style>#sk-container-id-1 {color: black;background-color: white;}#sk-container-id-1 pre{padding: 0;}#sk-container-id-1 div.sk-toggleable {background-color: white;}#sk-container-id-1 label.sk-toggleable__label {cursor: pointer;display: block;width: 100%;margin-bottom: 0;padding: 0.3em;box-sizing: border-box;text-align: center;}#sk-container-id-1 label.sk-toggleable__label-arrow:before {content: \"▸\";float: left;margin-right: 0.25em;color: #696969;}#sk-container-id-1 label.sk-toggleable__label-arrow:hover:before {color: black;}#sk-container-id-1 div.sk-estimator:hover label.sk-toggleable__label-arrow:before {color: black;}#sk-container-id-1 div.sk-toggleable__content {max-height: 0;max-width: 0;overflow: hidden;text-align: left;background-color: #f0f8ff;}#sk-container-id-1 div.sk-toggleable__content pre {margin: 0.2em;color: black;border-radius: 0.25em;background-color: #f0f8ff;}#sk-container-id-1 input.sk-toggleable__control:checked~div.sk-toggleable__content {max-height: 200px;max-width: 100%;overflow: auto;}#sk-container-id-1 input.sk-toggleable__control:checked~label.sk-toggleable__label-arrow:before {content: \"▾\";}#sk-container-id-1 div.sk-estimator input.sk-toggleable__control:checked~label.sk-toggleable__label {background-color: #d4ebff;}#sk-container-id-1 div.sk-label input.sk-toggleable__control:checked~label.sk-toggleable__label {background-color: #d4ebff;}#sk-container-id-1 input.sk-hidden--visually {border: 0;clip: rect(1px 1px 1px 1px);clip: rect(1px, 1px, 1px, 1px);height: 1px;margin: -1px;overflow: hidden;padding: 0;position: absolute;width: 1px;}#sk-container-id-1 div.sk-estimator {font-family: monospace;background-color: #f0f8ff;border: 1px dotted black;border-radius: 0.25em;box-sizing: border-box;margin-bottom: 0.5em;}#sk-container-id-1 div.sk-estimator:hover {background-color: #d4ebff;}#sk-container-id-1 div.sk-parallel-item::after {content: \"\";width: 100%;border-bottom: 1px solid gray;flex-grow: 1;}#sk-container-id-1 div.sk-label:hover label.sk-toggleable__label {background-color: #d4ebff;}#sk-container-id-1 div.sk-serial::before {content: \"\";position: absolute;border-left: 1px solid gray;box-sizing: border-box;top: 0;bottom: 0;left: 50%;z-index: 0;}#sk-container-id-1 div.sk-serial {display: flex;flex-direction: column;align-items: center;background-color: white;padding-right: 0.2em;padding-left: 0.2em;position: relative;}#sk-container-id-1 div.sk-item {position: relative;z-index: 1;}#sk-container-id-1 div.sk-parallel {display: flex;align-items: stretch;justify-content: center;background-color: white;position: relative;}#sk-container-id-1 div.sk-item::before, #sk-container-id-1 div.sk-parallel-item::before {content: \"\";position: absolute;border-left: 1px solid gray;box-sizing: border-box;top: 0;bottom: 0;left: 50%;z-index: -1;}#sk-container-id-1 div.sk-parallel-item {display: flex;flex-direction: column;z-index: 1;position: relative;background-color: white;}#sk-container-id-1 div.sk-parallel-item:first-child::after {align-self: flex-end;width: 50%;}#sk-container-id-1 div.sk-parallel-item:last-child::after {align-self: flex-start;width: 50%;}#sk-container-id-1 div.sk-parallel-item:only-child::after {width: 0;}#sk-container-id-1 div.sk-dashed-wrapped {border: 1px dashed gray;margin: 0 0.4em 0.5em 0.4em;box-sizing: border-box;padding-bottom: 0.4em;background-color: white;}#sk-container-id-1 div.sk-label label {font-family: monospace;font-weight: bold;display: inline-block;line-height: 1.2em;}#sk-container-id-1 div.sk-label-container {text-align: center;}#sk-container-id-1 div.sk-container {/* jupyter's `normalize.less` sets `[hidden] { display: none; }` but bootstrap.min.css set `[hidden] { display: none !important; }` so we also need the `!important` here to be able to override the default hidden behavior on the sphinx rendered scikit-learn.org. See: https://github.com/scikit-learn/scikit-learn/issues/21755 */display: inline-block !important;position: relative;}#sk-container-id-1 div.sk-text-repr-fallback {display: none;}</style><div id=\"sk-container-id-1\" class=\"sk-top-container\"><div class=\"sk-text-repr-fallback\"><pre>LinearRegression()</pre><b>In a Jupyter environment, please rerun this cell to show the HTML representation or trust the notebook. <br />On GitHub, the HTML representation is unable to render, please try loading this page with nbviewer.org.</b></div><div class=\"sk-container\" hidden><div class=\"sk-item\"><div class=\"sk-estimator sk-toggleable\"><input class=\"sk-toggleable__control sk-hidden--visually\" id=\"sk-estimator-id-1\" type=\"checkbox\" checked><label for=\"sk-estimator-id-1\" class=\"sk-toggleable__label sk-toggleable__label-arrow\">LinearRegression</label><div class=\"sk-toggleable__content\"><pre>LinearRegression()</pre></div></div></div></div></div>"
      ],
      "text/plain": [
       "LinearRegression()"
      ]
     },
     "execution_count": 30,
     "metadata": {},
     "output_type": "execute_result"
    },
    {
     "data": {
      "text/plain": [
       "array([-5.58018669e-03, -6.41984723e-06, -1.21723519e-01,  8.97624677e-03,\n",
       "        1.30899861e-01, -5.60796918e-02,  1.59286741e-02, -1.47095095e-01,\n",
       "       -1.37430774e-01,  6.33820241e-02,  3.35487022e-01,  8.44437594e-01,\n",
       "        8.82996270e-01,  5.03387181e-01,  2.87240710e-01])"
      ]
     },
     "execution_count": 30,
     "metadata": {},
     "output_type": "execute_result"
    }
   ],
   "source": [
    "#linear regression\n",
    "from sklearn.linear_model import LinearRegression\n",
    "lr = LinearRegression()\n",
    "lr.fit(x, y)\n",
    "lr.coef_"
   ]
  },
  {
   "cell_type": "code",
   "execution_count": 31,
   "id": "fad2388e",
   "metadata": {},
   "outputs": [
    {
     "name": "stdout",
     "output_type": "stream",
     "text": [
      "Requirement already satisfied: mlxtend in /Users/apple/opt/anaconda3/lib/python3.9/site-packages (0.21.0)\n",
      "Requirement already satisfied: joblib>=0.13.2 in /Users/apple/opt/anaconda3/lib/python3.9/site-packages (from mlxtend) (1.2.0)\n",
      "Requirement already satisfied: pandas>=0.24.2 in /Users/apple/opt/anaconda3/lib/python3.9/site-packages (from mlxtend) (1.3.4)\n",
      "Requirement already satisfied: setuptools in /Users/apple/opt/anaconda3/lib/python3.9/site-packages (from mlxtend) (58.0.4)\n",
      "Requirement already satisfied: scikit-learn>=1.0.2 in /Users/apple/opt/anaconda3/lib/python3.9/site-packages (from mlxtend) (1.2.0)\n",
      "Requirement already satisfied: scipy>=1.2.1 in /Users/apple/opt/anaconda3/lib/python3.9/site-packages (from mlxtend) (1.7.1)\n",
      "Requirement already satisfied: numpy>=1.16.2 in /Users/apple/opt/anaconda3/lib/python3.9/site-packages (from mlxtend) (1.20.3)\n",
      "Requirement already satisfied: matplotlib>=3.0.0 in /Users/apple/opt/anaconda3/lib/python3.9/site-packages (from mlxtend) (3.4.3)\n",
      "Requirement already satisfied: cycler>=0.10 in /Users/apple/opt/anaconda3/lib/python3.9/site-packages (from matplotlib>=3.0.0->mlxtend) (0.10.0)\n",
      "Requirement already satisfied: python-dateutil>=2.7 in /Users/apple/opt/anaconda3/lib/python3.9/site-packages (from matplotlib>=3.0.0->mlxtend) (2.8.2)\n",
      "Requirement already satisfied: pyparsing>=2.2.1 in /Users/apple/opt/anaconda3/lib/python3.9/site-packages (from matplotlib>=3.0.0->mlxtend) (3.0.4)\n",
      "Requirement already satisfied: pillow>=6.2.0 in /Users/apple/opt/anaconda3/lib/python3.9/site-packages (from matplotlib>=3.0.0->mlxtend) (8.4.0)\n",
      "Requirement already satisfied: kiwisolver>=1.0.1 in /Users/apple/opt/anaconda3/lib/python3.9/site-packages (from matplotlib>=3.0.0->mlxtend) (1.3.1)\n",
      "Requirement already satisfied: six in /Users/apple/opt/anaconda3/lib/python3.9/site-packages (from cycler>=0.10->matplotlib>=3.0.0->mlxtend) (1.16.0)\n",
      "Requirement already satisfied: pytz>=2017.3 in /Users/apple/opt/anaconda3/lib/python3.9/site-packages (from pandas>=0.24.2->mlxtend) (2021.3)\n",
      "Requirement already satisfied: threadpoolctl>=2.0.0 in /Users/apple/opt/anaconda3/lib/python3.9/site-packages (from scikit-learn>=1.0.2->mlxtend) (2.2.0)\n",
      "Note: you may need to restart the kernel to use updated packages.\n"
     ]
    }
   ],
   "source": [
    "pip install mlxtend"
   ]
  },
  {
   "cell_type": "code",
   "execution_count": 32,
   "id": "7435967a",
   "metadata": {},
   "outputs": [],
   "source": [
    "from mlxtend.feature_selection import SequentialFeatureSelector as SFS\n",
    "model_sfs = SFS(lr, scoring='neg_mean_squared_error', k_features=4, verbose=1, cv=5,)"
   ]
  },
  {
   "cell_type": "code",
   "execution_count": 33,
   "id": "30b8eb78",
   "metadata": {},
   "outputs": [
    {
     "name": "stderr",
     "output_type": "stream",
     "text": [
      "[Parallel(n_jobs=1)]: Using backend SequentialBackend with 1 concurrent workers.\n",
      "[Parallel(n_jobs=1)]: Done  15 out of  15 | elapsed:    0.1s finished\n",
      "Features: 1/4[Parallel(n_jobs=1)]: Using backend SequentialBackend with 1 concurrent workers.\n",
      "[Parallel(n_jobs=1)]: Done  14 out of  14 | elapsed:    0.2s finished\n",
      "Features: 2/4[Parallel(n_jobs=1)]: Using backend SequentialBackend with 1 concurrent workers.\n",
      "[Parallel(n_jobs=1)]: Done  13 out of  13 | elapsed:    0.2s finished\n",
      "Features: 3/4[Parallel(n_jobs=1)]: Using backend SequentialBackend with 1 concurrent workers.\n",
      "[Parallel(n_jobs=1)]: Done  12 out of  12 | elapsed:    0.2s finished\n",
      "Features: 4/4"
     ]
    },
    {
     "data": {
      "text/html": [
       "<style>#sk-container-id-2 {color: black;background-color: white;}#sk-container-id-2 pre{padding: 0;}#sk-container-id-2 div.sk-toggleable {background-color: white;}#sk-container-id-2 label.sk-toggleable__label {cursor: pointer;display: block;width: 100%;margin-bottom: 0;padding: 0.3em;box-sizing: border-box;text-align: center;}#sk-container-id-2 label.sk-toggleable__label-arrow:before {content: \"▸\";float: left;margin-right: 0.25em;color: #696969;}#sk-container-id-2 label.sk-toggleable__label-arrow:hover:before {color: black;}#sk-container-id-2 div.sk-estimator:hover label.sk-toggleable__label-arrow:before {color: black;}#sk-container-id-2 div.sk-toggleable__content {max-height: 0;max-width: 0;overflow: hidden;text-align: left;background-color: #f0f8ff;}#sk-container-id-2 div.sk-toggleable__content pre {margin: 0.2em;color: black;border-radius: 0.25em;background-color: #f0f8ff;}#sk-container-id-2 input.sk-toggleable__control:checked~div.sk-toggleable__content {max-height: 200px;max-width: 100%;overflow: auto;}#sk-container-id-2 input.sk-toggleable__control:checked~label.sk-toggleable__label-arrow:before {content: \"▾\";}#sk-container-id-2 div.sk-estimator input.sk-toggleable__control:checked~label.sk-toggleable__label {background-color: #d4ebff;}#sk-container-id-2 div.sk-label input.sk-toggleable__control:checked~label.sk-toggleable__label {background-color: #d4ebff;}#sk-container-id-2 input.sk-hidden--visually {border: 0;clip: rect(1px 1px 1px 1px);clip: rect(1px, 1px, 1px, 1px);height: 1px;margin: -1px;overflow: hidden;padding: 0;position: absolute;width: 1px;}#sk-container-id-2 div.sk-estimator {font-family: monospace;background-color: #f0f8ff;border: 1px dotted black;border-radius: 0.25em;box-sizing: border-box;margin-bottom: 0.5em;}#sk-container-id-2 div.sk-estimator:hover {background-color: #d4ebff;}#sk-container-id-2 div.sk-parallel-item::after {content: \"\";width: 100%;border-bottom: 1px solid gray;flex-grow: 1;}#sk-container-id-2 div.sk-label:hover label.sk-toggleable__label {background-color: #d4ebff;}#sk-container-id-2 div.sk-serial::before {content: \"\";position: absolute;border-left: 1px solid gray;box-sizing: border-box;top: 0;bottom: 0;left: 50%;z-index: 0;}#sk-container-id-2 div.sk-serial {display: flex;flex-direction: column;align-items: center;background-color: white;padding-right: 0.2em;padding-left: 0.2em;position: relative;}#sk-container-id-2 div.sk-item {position: relative;z-index: 1;}#sk-container-id-2 div.sk-parallel {display: flex;align-items: stretch;justify-content: center;background-color: white;position: relative;}#sk-container-id-2 div.sk-item::before, #sk-container-id-2 div.sk-parallel-item::before {content: \"\";position: absolute;border-left: 1px solid gray;box-sizing: border-box;top: 0;bottom: 0;left: 50%;z-index: -1;}#sk-container-id-2 div.sk-parallel-item {display: flex;flex-direction: column;z-index: 1;position: relative;background-color: white;}#sk-container-id-2 div.sk-parallel-item:first-child::after {align-self: flex-end;width: 50%;}#sk-container-id-2 div.sk-parallel-item:last-child::after {align-self: flex-start;width: 50%;}#sk-container-id-2 div.sk-parallel-item:only-child::after {width: 0;}#sk-container-id-2 div.sk-dashed-wrapped {border: 1px dashed gray;margin: 0 0.4em 0.5em 0.4em;box-sizing: border-box;padding-bottom: 0.4em;background-color: white;}#sk-container-id-2 div.sk-label label {font-family: monospace;font-weight: bold;display: inline-block;line-height: 1.2em;}#sk-container-id-2 div.sk-label-container {text-align: center;}#sk-container-id-2 div.sk-container {/* jupyter's `normalize.less` sets `[hidden] { display: none; }` but bootstrap.min.css set `[hidden] { display: none !important; }` so we also need the `!important` here to be able to override the default hidden behavior on the sphinx rendered scikit-learn.org. See: https://github.com/scikit-learn/scikit-learn/issues/21755 */display: inline-block !important;position: relative;}#sk-container-id-2 div.sk-text-repr-fallback {display: none;}</style><div id=\"sk-container-id-2\" class=\"sk-top-container\"><div class=\"sk-text-repr-fallback\"><pre>SequentialFeatureSelector(estimator=LinearRegression(), k_features=(4, 4),\n",
       "                          scoring=&#x27;neg_mean_squared_error&#x27;, verbose=1)</pre><b>In a Jupyter environment, please rerun this cell to show the HTML representation or trust the notebook. <br />On GitHub, the HTML representation is unable to render, please try loading this page with nbviewer.org.</b></div><div class=\"sk-container\" hidden><div class=\"sk-item sk-dashed-wrapped\"><div class=\"sk-label-container\"><div class=\"sk-label sk-toggleable\"><input class=\"sk-toggleable__control sk-hidden--visually\" id=\"sk-estimator-id-2\" type=\"checkbox\" ><label for=\"sk-estimator-id-2\" class=\"sk-toggleable__label sk-toggleable__label-arrow\">SequentialFeatureSelector</label><div class=\"sk-toggleable__content\"><pre>SequentialFeatureSelector(estimator=LinearRegression(), k_features=(4, 4),\n",
       "                          scoring=&#x27;neg_mean_squared_error&#x27;, verbose=1)</pre></div></div></div><div class=\"sk-parallel\"><div class=\"sk-parallel-item\"><div class=\"sk-item\"><div class=\"sk-label-container\"><div class=\"sk-label sk-toggleable\"><input class=\"sk-toggleable__control sk-hidden--visually\" id=\"sk-estimator-id-3\" type=\"checkbox\" ><label for=\"sk-estimator-id-3\" class=\"sk-toggleable__label sk-toggleable__label-arrow\">estimator: LinearRegression</label><div class=\"sk-toggleable__content\"><pre>LinearRegression()</pre></div></div></div><div class=\"sk-serial\"><div class=\"sk-item\"><div class=\"sk-estimator sk-toggleable\"><input class=\"sk-toggleable__control sk-hidden--visually\" id=\"sk-estimator-id-4\" type=\"checkbox\" ><label for=\"sk-estimator-id-4\" class=\"sk-toggleable__label sk-toggleable__label-arrow\">LinearRegression</label><div class=\"sk-toggleable__content\"><pre>LinearRegression()</pre></div></div></div></div></div></div></div></div></div></div>"
      ],
      "text/plain": [
       "SequentialFeatureSelector(estimator=LinearRegression(), k_features=(4, 4),\n",
       "                          scoring='neg_mean_squared_error', verbose=1)"
      ]
     },
     "execution_count": 33,
     "metadata": {},
     "output_type": "execute_result"
    }
   ],
   "source": [
    "model_sfs.fit(x, y)"
   ]
  },
  {
   "cell_type": "code",
   "execution_count": 34,
   "id": "f5963dd4",
   "metadata": {},
   "outputs": [
    {
     "data": {
      "text/plain": [
       "{1: {'feature_idx': (10,),\n",
       "  'cv_scores': array([-0.67685941, -0.90199742, -0.96203408, -0.81095999, -0.83595063]),\n",
       "  'avg_score': -0.8375603059976392,\n",
       "  'feature_names': ('review_scores_value',),\n",
       "  'ci_bound': 0.12352282048530241,\n",
       "  'std_dev': 0.09610495081376018,\n",
       "  'std_err': 0.04805247540688009},\n",
       " 2: {'feature_idx': (10, 11),\n",
       "  'cv_scores': array([-0.66521453, -0.88493082, -0.94959122, -0.79149257, -0.82831928]),\n",
       "  'avg_score': -0.8239096853827107,\n",
       "  'feature_names': ('review_scores_value', 'room_type_Entire home/apt'),\n",
       "  'ci_bound': 0.12297741617032538,\n",
       "  'std_dev': 0.0956806077275309,\n",
       "  'std_err': 0.04784030386376544},\n",
       " 3: {'feature_idx': (2, 10, 11),\n",
       "  'cv_scores': array([-0.65641003, -0.86301189, -0.92254037, -0.77695578, -0.81252604]),\n",
       "  'avg_score': -0.806288823642015,\n",
       "  'feature_names': ('bedrooms',\n",
       "   'review_scores_value',\n",
       "   'room_type_Entire home/apt'),\n",
       "  'ci_bound': 0.11509622175895916,\n",
       "  'std_dev': 0.08954877072541065,\n",
       "  'std_err': 0.044774385362705324},\n",
       " 4: {'feature_idx': (2, 4, 10, 11),\n",
       "  'cv_scores': array([-0.65316511, -0.85940191, -0.91991024, -0.77333659, -0.8092063 ]),\n",
       "  'avg_score': -0.8030040295819045,\n",
       "  'feature_names': ('bedrooms',\n",
       "   'review_scores_rating',\n",
       "   'review_scores_value',\n",
       "   'room_type_Entire home/apt'),\n",
       "  'ci_bound': 0.1152729129956812,\n",
       "  'std_dev': 0.08968624251036243,\n",
       "  'std_err': 0.044843121255181216}}"
      ]
     },
     "execution_count": 34,
     "metadata": {},
     "output_type": "execute_result"
    }
   ],
   "source": [
    "model_sfs.get_metric_dict()"
   ]
  },
  {
   "cell_type": "code",
   "execution_count": 35,
   "id": "ca1f9849",
   "metadata": {},
   "outputs": [
    {
     "data": {
      "text/html": [
       "<div>\n",
       "<style scoped>\n",
       "    .dataframe tbody tr th:only-of-type {\n",
       "        vertical-align: middle;\n",
       "    }\n",
       "\n",
       "    .dataframe tbody tr th {\n",
       "        vertical-align: top;\n",
       "    }\n",
       "\n",
       "    .dataframe thead th {\n",
       "        text-align: right;\n",
       "    }\n",
       "</style>\n",
       "<table border=\"1\" class=\"dataframe\">\n",
       "  <thead>\n",
       "    <tr style=\"text-align: right;\">\n",
       "      <th></th>\n",
       "      <th>feature_idx</th>\n",
       "      <th>cv_scores</th>\n",
       "      <th>avg_score</th>\n",
       "      <th>feature_names</th>\n",
       "      <th>ci_bound</th>\n",
       "      <th>std_dev</th>\n",
       "      <th>std_err</th>\n",
       "    </tr>\n",
       "  </thead>\n",
       "  <tbody>\n",
       "    <tr>\n",
       "      <th>1</th>\n",
       "      <td>(10,)</td>\n",
       "      <td>[-0.6768594097379345, -0.9019974177765702, -0....</td>\n",
       "      <td>-0.83756</td>\n",
       "      <td>(review_scores_value,)</td>\n",
       "      <td>0.123523</td>\n",
       "      <td>0.096105</td>\n",
       "      <td>0.048052</td>\n",
       "    </tr>\n",
       "    <tr>\n",
       "      <th>2</th>\n",
       "      <td>(10, 11)</td>\n",
       "      <td>[-0.665214532944452, -0.8849308239167312, -0.9...</td>\n",
       "      <td>-0.82391</td>\n",
       "      <td>(review_scores_value, room_type_Entire home/apt)</td>\n",
       "      <td>0.122977</td>\n",
       "      <td>0.095681</td>\n",
       "      <td>0.04784</td>\n",
       "    </tr>\n",
       "    <tr>\n",
       "      <th>3</th>\n",
       "      <td>(2, 10, 11)</td>\n",
       "      <td>[-0.6564100312335577, -0.8630118936412964, -0....</td>\n",
       "      <td>-0.806289</td>\n",
       "      <td>(bedrooms, review_scores_value, room_type_Enti...</td>\n",
       "      <td>0.115096</td>\n",
       "      <td>0.089549</td>\n",
       "      <td>0.044774</td>\n",
       "    </tr>\n",
       "    <tr>\n",
       "      <th>4</th>\n",
       "      <td>(2, 4, 10, 11)</td>\n",
       "      <td>[-0.6531651097904069, -0.8594019097137056, -0....</td>\n",
       "      <td>-0.803004</td>\n",
       "      <td>(bedrooms, review_scores_rating, review_scores...</td>\n",
       "      <td>0.115273</td>\n",
       "      <td>0.089686</td>\n",
       "      <td>0.044843</td>\n",
       "    </tr>\n",
       "  </tbody>\n",
       "</table>\n",
       "</div>"
      ],
      "text/plain": [
       "      feature_idx                                          cv_scores  \\\n",
       "1           (10,)  [-0.6768594097379345, -0.9019974177765702, -0....   \n",
       "2        (10, 11)  [-0.665214532944452, -0.8849308239167312, -0.9...   \n",
       "3     (2, 10, 11)  [-0.6564100312335577, -0.8630118936412964, -0....   \n",
       "4  (2, 4, 10, 11)  [-0.6531651097904069, -0.8594019097137056, -0....   \n",
       "\n",
       "  avg_score                                      feature_names  ci_bound  \\\n",
       "1  -0.83756                             (review_scores_value,)  0.123523   \n",
       "2  -0.82391   (review_scores_value, room_type_Entire home/apt)  0.122977   \n",
       "3 -0.806289  (bedrooms, review_scores_value, room_type_Enti...  0.115096   \n",
       "4 -0.803004  (bedrooms, review_scores_rating, review_scores...  0.115273   \n",
       "\n",
       "    std_dev   std_err  \n",
       "1  0.096105  0.048052  \n",
       "2  0.095681   0.04784  \n",
       "3  0.089549  0.044774  \n",
       "4  0.089686  0.044843  "
      ]
     },
     "execution_count": 35,
     "metadata": {},
     "output_type": "execute_result"
    }
   ],
   "source": [
    "pd.DataFrame.from_dict(model_sfs.get_metric_dict()).T"
   ]
  },
  {
   "cell_type": "code",
   "execution_count": 36,
   "id": "a4c41740",
   "metadata": {},
   "outputs": [
    {
     "data": {
      "text/plain": [
       "Text(0.5, 1.0, 'Sequential Forward Selection')"
      ]
     },
     "execution_count": 36,
     "metadata": {},
     "output_type": "execute_result"
    },
    {
     "data": {
      "image/png": "[encoded data removed]",
      "text/plain": [
       "<Figure size 432x288 with 1 Axes>"
      ]
     },
     "metadata": {
      "needs_background": "light"
     },
     "output_type": "display_data"
    }
   ],
   "source": [
    "from mlxtend.plotting import plot_sequential_feature_selection as plot_sfs\n",
    "import matplotlib.pyplot as plt\n",
    "\n",
    "fig1 = plot_sfs(model_sfs.get_metric_dict(), kind='std_dev')\n",
    "plt.title('Sequential Forward Selection')\n",
    "plt.grid()\n",
    "plt.show()"
   ]
  },
  {
   "cell_type": "code",
   "execution_count": 37,
   "id": "a5d775dc",
   "metadata": {},
   "outputs": [
    {
     "data": {
      "text/plain": [
       "(24886, 4)"
      ]
     },
     "execution_count": 37,
     "metadata": {},
     "output_type": "execute_result"
    }
   ],
   "source": [
    "X_selected = model_sfs.transform(x)\n",
    "X_selected.shape"
   ]
  },
  {
   "cell_type": "code",
   "execution_count": 38,
   "id": "9ccf961f",
   "metadata": {},
   "outputs": [],
   "source": [
    "lr_after_selection = lr.fit(X_selected, y)"
   ]
  },
  {
   "cell_type": "code",
   "execution_count": 39,
   "id": "ee53a95f",
   "metadata": {},
   "outputs": [
    {
     "data": {
      "text/plain": [
       "array([0.37074576, 0.59412598, 0.67582438, 0.70654544, 0.24852257,\n",
       "       0.59412598, 0.80353172, 0.71634917, 0.20799779, 0.71634917])"
      ]
     },
     "execution_count": 39,
     "metadata": {},
     "output_type": "execute_result"
    }
   ],
   "source": [
    "lr_after_selection.predict(X_selected)[:10] "
   ]
  },
  {
   "cell_type": "code",
   "execution_count": 40,
   "id": "80307f38",
   "metadata": {},
   "outputs": [],
   "source": [
    "from sklearn.feature_selection import RFE"
   ]
  },
  {
   "cell_type": "code",
   "execution_count": 41,
   "id": "404a17e9",
   "metadata": {},
   "outputs": [
    {
     "data": {
      "text/html": [
       "<style>#sk-container-id-3 {color: black;background-color: white;}#sk-container-id-3 pre{padding: 0;}#sk-container-id-3 div.sk-toggleable {background-color: white;}#sk-container-id-3 label.sk-toggleable__label {cursor: pointer;display: block;width: 100%;margin-bottom: 0;padding: 0.3em;box-sizing: border-box;text-align: center;}#sk-container-id-3 label.sk-toggleable__label-arrow:before {content: \"▸\";float: left;margin-right: 0.25em;color: #696969;}#sk-container-id-3 label.sk-toggleable__label-arrow:hover:before {color: black;}#sk-container-id-3 div.sk-estimator:hover label.sk-toggleable__label-arrow:before {color: black;}#sk-container-id-3 div.sk-toggleable__content {max-height: 0;max-width: 0;overflow: hidden;text-align: left;background-color: #f0f8ff;}#sk-container-id-3 div.sk-toggleable__content pre {margin: 0.2em;color: black;border-radius: 0.25em;background-color: #f0f8ff;}#sk-container-id-3 input.sk-toggleable__control:checked~div.sk-toggleable__content {max-height: 200px;max-width: 100%;overflow: auto;}#sk-container-id-3 input.sk-toggleable__control:checked~label.sk-toggleable__label-arrow:before {content: \"▾\";}#sk-container-id-3 div.sk-estimator input.sk-toggleable__control:checked~label.sk-toggleable__label {background-color: #d4ebff;}#sk-container-id-3 div.sk-label input.sk-toggleable__control:checked~label.sk-toggleable__label {background-color: #d4ebff;}#sk-container-id-3 input.sk-hidden--visually {border: 0;clip: rect(1px 1px 1px 1px);clip: rect(1px, 1px, 1px, 1px);height: 1px;margin: -1px;overflow: hidden;padding: 0;position: absolute;width: 1px;}#sk-container-id-3 div.sk-estimator {font-family: monospace;background-color: #f0f8ff;border: 1px dotted black;border-radius: 0.25em;box-sizing: border-box;margin-bottom: 0.5em;}#sk-container-id-3 div.sk-estimator:hover {background-color: #d4ebff;}#sk-container-id-3 div.sk-parallel-item::after {content: \"\";width: 100%;border-bottom: 1px solid gray;flex-grow: 1;}#sk-container-id-3 div.sk-label:hover label.sk-toggleable__label {background-color: #d4ebff;}#sk-container-id-3 div.sk-serial::before {content: \"\";position: absolute;border-left: 1px solid gray;box-sizing: border-box;top: 0;bottom: 0;left: 50%;z-index: 0;}#sk-container-id-3 div.sk-serial {display: flex;flex-direction: column;align-items: center;background-color: white;padding-right: 0.2em;padding-left: 0.2em;position: relative;}#sk-container-id-3 div.sk-item {position: relative;z-index: 1;}#sk-container-id-3 div.sk-parallel {display: flex;align-items: stretch;justify-content: center;background-color: white;position: relative;}#sk-container-id-3 div.sk-item::before, #sk-container-id-3 div.sk-parallel-item::before {content: \"\";position: absolute;border-left: 1px solid gray;box-sizing: border-box;top: 0;bottom: 0;left: 50%;z-index: -1;}#sk-container-id-3 div.sk-parallel-item {display: flex;flex-direction: column;z-index: 1;position: relative;background-color: white;}#sk-container-id-3 div.sk-parallel-item:first-child::after {align-self: flex-end;width: 50%;}#sk-container-id-3 div.sk-parallel-item:last-child::after {align-self: flex-start;width: 50%;}#sk-container-id-3 div.sk-parallel-item:only-child::after {width: 0;}#sk-container-id-3 div.sk-dashed-wrapped {border: 1px dashed gray;margin: 0 0.4em 0.5em 0.4em;box-sizing: border-box;padding-bottom: 0.4em;background-color: white;}#sk-container-id-3 div.sk-label label {font-family: monospace;font-weight: bold;display: inline-block;line-height: 1.2em;}#sk-container-id-3 div.sk-label-container {text-align: center;}#sk-container-id-3 div.sk-container {/* jupyter's `normalize.less` sets `[hidden] { display: none; }` but bootstrap.min.css set `[hidden] { display: none !important; }` so we also need the `!important` here to be able to override the default hidden behavior on the sphinx rendered scikit-learn.org. See: https://github.com/scikit-learn/scikit-learn/issues/21755 */display: inline-block !important;position: relative;}#sk-container-id-3 div.sk-text-repr-fallback {display: none;}</style><div id=\"sk-container-id-3\" class=\"sk-top-container\"><div class=\"sk-text-repr-fallback\"><pre>RFE(estimator=LinearRegression(), n_features_to_select=4)</pre><b>In a Jupyter environment, please rerun this cell to show the HTML representation or trust the notebook. <br />On GitHub, the HTML representation is unable to render, please try loading this page with nbviewer.org.</b></div><div class=\"sk-container\" hidden><div class=\"sk-item sk-dashed-wrapped\"><div class=\"sk-label-container\"><div class=\"sk-label sk-toggleable\"><input class=\"sk-toggleable__control sk-hidden--visually\" id=\"sk-estimator-id-5\" type=\"checkbox\" ><label for=\"sk-estimator-id-5\" class=\"sk-toggleable__label sk-toggleable__label-arrow\">RFE</label><div class=\"sk-toggleable__content\"><pre>RFE(estimator=LinearRegression(), n_features_to_select=4)</pre></div></div></div><div class=\"sk-parallel\"><div class=\"sk-parallel-item\"><div class=\"sk-item\"><div class=\"sk-label-container\"><div class=\"sk-label sk-toggleable\"><input class=\"sk-toggleable__control sk-hidden--visually\" id=\"sk-estimator-id-6\" type=\"checkbox\" ><label for=\"sk-estimator-id-6\" class=\"sk-toggleable__label sk-toggleable__label-arrow\">estimator: LinearRegression</label><div class=\"sk-toggleable__content\"><pre>LinearRegression()</pre></div></div></div><div class=\"sk-serial\"><div class=\"sk-item\"><div class=\"sk-estimator sk-toggleable\"><input class=\"sk-toggleable__control sk-hidden--visually\" id=\"sk-estimator-id-7\" type=\"checkbox\" ><label for=\"sk-estimator-id-7\" class=\"sk-toggleable__label sk-toggleable__label-arrow\">LinearRegression</label><div class=\"sk-toggleable__content\"><pre>LinearRegression()</pre></div></div></div></div></div></div></div></div></div></div>"
      ],
      "text/plain": [
       "RFE(estimator=LinearRegression(), n_features_to_select=4)"
      ]
     },
     "execution_count": 41,
     "metadata": {},
     "output_type": "execute_result"
    }
   ],
   "source": [
    "model_RFE = RFE(lr, n_features_to_select=4)\n",
    "model_RFE.fit(x, y)"
   ]
  },
  {
   "cell_type": "code",
   "execution_count": 42,
   "id": "7dd0c1fb",
   "metadata": {},
   "outputs": [
    {
     "data": {
      "text/plain": [
       "array([False, False, False, False, False, False, False, False, False,\n",
       "       False,  True,  True,  True,  True, False])"
      ]
     },
     "execution_count": 42,
     "metadata": {},
     "output_type": "execute_result"
    }
   ],
   "source": [
    "model_RFE.get_support()"
   ]
  },
  {
   "cell_type": "code",
   "execution_count": 43,
   "id": "6f2787eb",
   "metadata": {},
   "outputs": [
    {
     "data": {
      "text/html": [
       "<div>\n",
       "<style scoped>\n",
       "    .dataframe tbody tr th:only-of-type {\n",
       "        vertical-align: middle;\n",
       "    }\n",
       "\n",
       "    .dataframe tbody tr th {\n",
       "        vertical-align: top;\n",
       "    }\n",
       "\n",
       "    .dataframe thead th {\n",
       "        text-align: right;\n",
       "    }\n",
       "</style>\n",
       "<table border=\"1\" class=\"dataframe\">\n",
       "  <thead>\n",
       "    <tr style=\"text-align: right;\">\n",
       "      <th></th>\n",
       "      <th>review_scores_value</th>\n",
       "      <th>room_type_Entire home/apt</th>\n",
       "      <th>room_type_Hotel room</th>\n",
       "      <th>room_type_Private room</th>\n",
       "    </tr>\n",
       "  </thead>\n",
       "  <tbody>\n",
       "    <tr>\n",
       "      <th>0</th>\n",
       "      <td>4.666319</td>\n",
       "      <td>0</td>\n",
       "      <td>0</td>\n",
       "      <td>1</td>\n",
       "    </tr>\n",
       "    <tr>\n",
       "      <th>1</th>\n",
       "      <td>4.666319</td>\n",
       "      <td>1</td>\n",
       "      <td>0</td>\n",
       "      <td>0</td>\n",
       "    </tr>\n",
       "    <tr>\n",
       "      <th>2</th>\n",
       "      <td>4.890000</td>\n",
       "      <td>1</td>\n",
       "      <td>0</td>\n",
       "      <td>0</td>\n",
       "    </tr>\n",
       "    <tr>\n",
       "      <th>3</th>\n",
       "      <td>4.570000</td>\n",
       "      <td>1</td>\n",
       "      <td>0</td>\n",
       "      <td>0</td>\n",
       "    </tr>\n",
       "    <tr>\n",
       "      <th>4</th>\n",
       "      <td>4.666319</td>\n",
       "      <td>0</td>\n",
       "      <td>0</td>\n",
       "      <td>1</td>\n",
       "    </tr>\n",
       "    <tr>\n",
       "      <th>...</th>\n",
       "      <td>...</td>\n",
       "      <td>...</td>\n",
       "      <td>...</td>\n",
       "      <td>...</td>\n",
       "    </tr>\n",
       "    <tr>\n",
       "      <th>24881</th>\n",
       "      <td>4.666319</td>\n",
       "      <td>1</td>\n",
       "      <td>0</td>\n",
       "      <td>0</td>\n",
       "    </tr>\n",
       "    <tr>\n",
       "      <th>24882</th>\n",
       "      <td>3.750000</td>\n",
       "      <td>1</td>\n",
       "      <td>0</td>\n",
       "      <td>0</td>\n",
       "    </tr>\n",
       "    <tr>\n",
       "      <th>24883</th>\n",
       "      <td>4.940000</td>\n",
       "      <td>0</td>\n",
       "      <td>0</td>\n",
       "      <td>1</td>\n",
       "    </tr>\n",
       "    <tr>\n",
       "      <th>24884</th>\n",
       "      <td>4.330000</td>\n",
       "      <td>1</td>\n",
       "      <td>0</td>\n",
       "      <td>0</td>\n",
       "    </tr>\n",
       "    <tr>\n",
       "      <th>24885</th>\n",
       "      <td>5.000000</td>\n",
       "      <td>0</td>\n",
       "      <td>0</td>\n",
       "      <td>1</td>\n",
       "    </tr>\n",
       "  </tbody>\n",
       "</table>\n",
       "<p>24886 rows × 4 columns</p>\n",
       "</div>"
      ],
      "text/plain": [
       "       review_scores_value  room_type_Entire home/apt  room_type_Hotel room  \\\n",
       "0                 4.666319                          0                     0   \n",
       "1                 4.666319                          1                     0   \n",
       "2                 4.890000                          1                     0   \n",
       "3                 4.570000                          1                     0   \n",
       "4                 4.666319                          0                     0   \n",
       "...                    ...                        ...                   ...   \n",
       "24881             4.666319                          1                     0   \n",
       "24882             3.750000                          1                     0   \n",
       "24883             4.940000                          0                     0   \n",
       "24884             4.330000                          1                     0   \n",
       "24885             5.000000                          0                     0   \n",
       "\n",
       "       room_type_Private room  \n",
       "0                           1  \n",
       "1                           0  \n",
       "2                           0  \n",
       "3                           0  \n",
       "4                           1  \n",
       "...                       ...  \n",
       "24881                       0  \n",
       "24882                       0  \n",
       "24883                       1  \n",
       "24884                       0  \n",
       "24885                       1  \n",
       "\n",
       "[24886 rows x 4 columns]"
      ]
     },
     "execution_count": 43,
     "metadata": {},
     "output_type": "execute_result"
    }
   ],
   "source": [
    "x.loc[:, model_RFE.get_support()]"
   ]
  },
  {
   "cell_type": "markdown",
   "id": "e43cc6d5",
   "metadata": {},
   "source": [
    "# Lasso model"
   ]
  },
  {
   "cell_type": "code",
   "execution_count": 44,
   "id": "a063ce72",
   "metadata": {},
   "outputs": [],
   "source": [
    "from sklearn.linear_model import Lasso, LassoCV, lars_path"
   ]
  },
  {
   "cell_type": "code",
   "execution_count": 45,
   "id": "927a40b1",
   "metadata": {},
   "outputs": [
    {
     "data": {
      "text/html": [
       "<style>#sk-container-id-4 {color: black;background-color: white;}#sk-container-id-4 pre{padding: 0;}#sk-container-id-4 div.sk-toggleable {background-color: white;}#sk-container-id-4 label.sk-toggleable__label {cursor: pointer;display: block;width: 100%;margin-bottom: 0;padding: 0.3em;box-sizing: border-box;text-align: center;}#sk-container-id-4 label.sk-toggleable__label-arrow:before {content: \"▸\";float: left;margin-right: 0.25em;color: #696969;}#sk-container-id-4 label.sk-toggleable__label-arrow:hover:before {color: black;}#sk-container-id-4 div.sk-estimator:hover label.sk-toggleable__label-arrow:before {color: black;}#sk-container-id-4 div.sk-toggleable__content {max-height: 0;max-width: 0;overflow: hidden;text-align: left;background-color: #f0f8ff;}#sk-container-id-4 div.sk-toggleable__content pre {margin: 0.2em;color: black;border-radius: 0.25em;background-color: #f0f8ff;}#sk-container-id-4 input.sk-toggleable__control:checked~div.sk-toggleable__content {max-height: 200px;max-width: 100%;overflow: auto;}#sk-container-id-4 input.sk-toggleable__control:checked~label.sk-toggleable__label-arrow:before {content: \"▾\";}#sk-container-id-4 div.sk-estimator input.sk-toggleable__control:checked~label.sk-toggleable__label {background-color: #d4ebff;}#sk-container-id-4 div.sk-label input.sk-toggleable__control:checked~label.sk-toggleable__label {background-color: #d4ebff;}#sk-container-id-4 input.sk-hidden--visually {border: 0;clip: rect(1px 1px 1px 1px);clip: rect(1px, 1px, 1px, 1px);height: 1px;margin: -1px;overflow: hidden;padding: 0;position: absolute;width: 1px;}#sk-container-id-4 div.sk-estimator {font-family: monospace;background-color: #f0f8ff;border: 1px dotted black;border-radius: 0.25em;box-sizing: border-box;margin-bottom: 0.5em;}#sk-container-id-4 div.sk-estimator:hover {background-color: #d4ebff;}#sk-container-id-4 div.sk-parallel-item::after {content: \"\";width: 100%;border-bottom: 1px solid gray;flex-grow: 1;}#sk-container-id-4 div.sk-label:hover label.sk-toggleable__label {background-color: #d4ebff;}#sk-container-id-4 div.sk-serial::before {content: \"\";position: absolute;border-left: 1px solid gray;box-sizing: border-box;top: 0;bottom: 0;left: 50%;z-index: 0;}#sk-container-id-4 div.sk-serial {display: flex;flex-direction: column;align-items: center;background-color: white;padding-right: 0.2em;padding-left: 0.2em;position: relative;}#sk-container-id-4 div.sk-item {position: relative;z-index: 1;}#sk-container-id-4 div.sk-parallel {display: flex;align-items: stretch;justify-content: center;background-color: white;position: relative;}#sk-container-id-4 div.sk-item::before, #sk-container-id-4 div.sk-parallel-item::before {content: \"\";position: absolute;border-left: 1px solid gray;box-sizing: border-box;top: 0;bottom: 0;left: 50%;z-index: -1;}#sk-container-id-4 div.sk-parallel-item {display: flex;flex-direction: column;z-index: 1;position: relative;background-color: white;}#sk-container-id-4 div.sk-parallel-item:first-child::after {align-self: flex-end;width: 50%;}#sk-container-id-4 div.sk-parallel-item:last-child::after {align-self: flex-start;width: 50%;}#sk-container-id-4 div.sk-parallel-item:only-child::after {width: 0;}#sk-container-id-4 div.sk-dashed-wrapped {border: 1px dashed gray;margin: 0 0.4em 0.5em 0.4em;box-sizing: border-box;padding-bottom: 0.4em;background-color: white;}#sk-container-id-4 div.sk-label label {font-family: monospace;font-weight: bold;display: inline-block;line-height: 1.2em;}#sk-container-id-4 div.sk-label-container {text-align: center;}#sk-container-id-4 div.sk-container {/* jupyter's `normalize.less` sets `[hidden] { display: none; }` but bootstrap.min.css set `[hidden] { display: none !important; }` so we also need the `!important` here to be able to override the default hidden behavior on the sphinx rendered scikit-learn.org. See: https://github.com/scikit-learn/scikit-learn/issues/21755 */display: inline-block !important;position: relative;}#sk-container-id-4 div.sk-text-repr-fallback {display: none;}</style><div id=\"sk-container-id-4\" class=\"sk-top-container\"><div class=\"sk-text-repr-fallback\"><pre>Lasso(alpha=0.1)</pre><b>In a Jupyter environment, please rerun this cell to show the HTML representation or trust the notebook. <br />On GitHub, the HTML representation is unable to render, please try loading this page with nbviewer.org.</b></div><div class=\"sk-container\" hidden><div class=\"sk-item\"><div class=\"sk-estimator sk-toggleable\"><input class=\"sk-toggleable__control sk-hidden--visually\" id=\"sk-estimator-id-8\" type=\"checkbox\" checked><label for=\"sk-estimator-id-8\" class=\"sk-toggleable__label sk-toggleable__label-arrow\">Lasso</label><div class=\"sk-toggleable__content\"><pre>Lasso(alpha=0.1)</pre></div></div></div></div></div>"
      ],
      "text/plain": [
       "Lasso(alpha=0.1)"
      ]
     },
     "execution_count": 45,
     "metadata": {},
     "output_type": "execute_result"
    },
    {
     "data": {
      "text/plain": [
       "array([-0.00000000e+00, -8.78008227e-06, -1.22990391e-02, -0.00000000e+00,\n",
       "        0.00000000e+00,  0.00000000e+00,  0.00000000e+00,  0.00000000e+00,\n",
       "        0.00000000e+00,  0.00000000e+00,  0.00000000e+00,  0.00000000e+00,\n",
       "        0.00000000e+00, -0.00000000e+00, -0.00000000e+00])"
      ]
     },
     "execution_count": 45,
     "metadata": {},
     "output_type": "execute_result"
    }
   ],
   "source": [
    "model_lasso = Lasso(alpha = 0.1)\n",
    "model_lasso.fit(x, y)\n",
    "model_lasso.coef_"
   ]
  },
  {
   "cell_type": "code",
   "execution_count": 46,
   "id": "1b34f48f",
   "metadata": {},
   "outputs": [],
   "source": [
    "from sklearn.model_selection import train_test_split"
   ]
  },
  {
   "cell_type": "code",
   "execution_count": 47,
   "id": "9b86c7ea",
   "metadata": {},
   "outputs": [],
   "source": [
    "X_train, X_test, y_train, y_test = train_test_split(x, y, test_size=0.2)"
   ]
  },
  {
   "cell_type": "code",
   "execution_count": 48,
   "id": "4fb591cd",
   "metadata": {},
   "outputs": [
    {
     "data": {
      "text/plain": [
       "(19908, 15)"
      ]
     },
     "execution_count": 48,
     "metadata": {},
     "output_type": "execute_result"
    },
    {
     "data": {
      "text/plain": [
       "(4978, 15)"
      ]
     },
     "execution_count": 48,
     "metadata": {},
     "output_type": "execute_result"
    }
   ],
   "source": [
    "X_train.shape\n",
    "X_test.shape"
   ]
  },
  {
   "cell_type": "code",
   "execution_count": 49,
   "id": "70531ec2",
   "metadata": {},
   "outputs": [],
   "source": [
    "scaler = preprocessing.StandardScaler().fit(X_train)"
   ]
  },
  {
   "cell_type": "code",
   "execution_count": 50,
   "id": "1ce37670",
   "metadata": {},
   "outputs": [
    {
     "name": "stderr",
     "output_type": "stream",
     "text": [
      "/Users/apple/opt/anaconda3/lib/python3.9/site-packages/sklearn/linear_model/_coordinate_descent.py:620: ConvergenceWarning: Objective did not converge. You might want to increase the number of iterations. Duality gap: 3.442207303709438, tolerance: 1.31413318023923\n",
      "  model = cd_fast.enet_coordinate_descent_gram(\n",
      "/Users/apple/opt/anaconda3/lib/python3.9/site-packages/sklearn/linear_model/_coordinate_descent.py:620: ConvergenceWarning: Objective did not converge. You might want to increase the number of iterations. Duality gap: 8.062079615669063, tolerance: 1.31413318023923\n",
      "  model = cd_fast.enet_coordinate_descent_gram(\n",
      "/Users/apple/opt/anaconda3/lib/python3.9/site-packages/sklearn/linear_model/_coordinate_descent.py:620: ConvergenceWarning: Objective did not converge. You might want to increase the number of iterations. Duality gap: 9.593755471085387, tolerance: 1.31413318023923\n",
      "  model = cd_fast.enet_coordinate_descent_gram(\n",
      "/Users/apple/opt/anaconda3/lib/python3.9/site-packages/sklearn/linear_model/_coordinate_descent.py:620: ConvergenceWarning: Objective did not converge. You might want to increase the number of iterations. Duality gap: 10.020950640879164, tolerance: 1.31413318023923\n",
      "  model = cd_fast.enet_coordinate_descent_gram(\n",
      "/Users/apple/opt/anaconda3/lib/python3.9/site-packages/sklearn/linear_model/_coordinate_descent.py:620: ConvergenceWarning: Objective did not converge. You might want to increase the number of iterations. Duality gap: 10.134282012253607, tolerance: 1.31413318023923\n",
      "  model = cd_fast.enet_coordinate_descent_gram(\n",
      "/Users/apple/opt/anaconda3/lib/python3.9/site-packages/sklearn/linear_model/_coordinate_descent.py:620: ConvergenceWarning: Objective did not converge. You might want to increase the number of iterations. Duality gap: 10.162592389340716, tolerance: 1.31413318023923\n",
      "  model = cd_fast.enet_coordinate_descent_gram(\n",
      "/Users/apple/opt/anaconda3/lib/python3.9/site-packages/sklearn/linear_model/_coordinate_descent.py:620: ConvergenceWarning: Objective did not converge. You might want to increase the number of iterations. Duality gap: 4.40864536596564, tolerance: 1.3364768177922899\n",
      "  model = cd_fast.enet_coordinate_descent_gram(\n",
      "/Users/apple/opt/anaconda3/lib/python3.9/site-packages/sklearn/linear_model/_coordinate_descent.py:620: ConvergenceWarning: Objective did not converge. You might want to increase the number of iterations. Duality gap: 16.68661290846103, tolerance: 1.3364768177922899\n",
      "  model = cd_fast.enet_coordinate_descent_gram(\n",
      "/Users/apple/opt/anaconda3/lib/python3.9/site-packages/sklearn/linear_model/_coordinate_descent.py:620: ConvergenceWarning: Objective did not converge. You might want to increase the number of iterations. Duality gap: 2.211939799002721, tolerance: 1.3226828567807376\n",
      "  model = cd_fast.enet_coordinate_descent_gram(\n",
      "/Users/apple/opt/anaconda3/lib/python3.9/site-packages/sklearn/linear_model/_coordinate_descent.py:620: ConvergenceWarning: Objective did not converge. You might want to increase the number of iterations. Duality gap: 14.61688531222353, tolerance: 1.3226828567807376\n",
      "  model = cd_fast.enet_coordinate_descent_gram(\n",
      "/Users/apple/opt/anaconda3/lib/python3.9/site-packages/sklearn/linear_model/_coordinate_descent.py:620: ConvergenceWarning: Objective did not converge. You might want to increase the number of iterations. Duality gap: 2.407943407599305, tolerance: 1.3216298154530033\n",
      "  model = cd_fast.enet_coordinate_descent_gram(\n",
      "/Users/apple/opt/anaconda3/lib/python3.9/site-packages/sklearn/linear_model/_coordinate_descent.py:620: ConvergenceWarning: Objective did not converge. You might want to increase the number of iterations. Duality gap: 7.748464713580688, tolerance: 1.3216298154530033\n",
      "  model = cd_fast.enet_coordinate_descent_gram(\n",
      "/Users/apple/opt/anaconda3/lib/python3.9/site-packages/sklearn/linear_model/_coordinate_descent.py:620: ConvergenceWarning: Objective did not converge. You might want to increase the number of iterations. Duality gap: 9.660115873433824, tolerance: 1.3216298154530033\n",
      "  model = cd_fast.enet_coordinate_descent_gram(\n",
      "/Users/apple/opt/anaconda3/lib/python3.9/site-packages/sklearn/linear_model/_coordinate_descent.py:620: ConvergenceWarning: Objective did not converge. You might want to increase the number of iterations. Duality gap: 10.205212351767841, tolerance: 1.3216298154530033\n",
      "  model = cd_fast.enet_coordinate_descent_gram(\n",
      "/Users/apple/opt/anaconda3/lib/python3.9/site-packages/sklearn/linear_model/_coordinate_descent.py:620: ConvergenceWarning: Objective did not converge. You might want to increase the number of iterations. Duality gap: 10.35198038839917, tolerance: 1.3216298154530033\n",
      "  model = cd_fast.enet_coordinate_descent_gram(\n",
      "/Users/apple/opt/anaconda3/lib/python3.9/site-packages/sklearn/linear_model/_coordinate_descent.py:620: ConvergenceWarning: Objective did not converge. You might want to increase the number of iterations. Duality gap: 10.389455184953476, tolerance: 1.3216298154530033\n",
      "  model = cd_fast.enet_coordinate_descent_gram(\n"
     ]
    },
    {
     "data": {
      "text/html": [
       "<style>#sk-container-id-5 {color: black;background-color: white;}#sk-container-id-5 pre{padding: 0;}#sk-container-id-5 div.sk-toggleable {background-color: white;}#sk-container-id-5 label.sk-toggleable__label {cursor: pointer;display: block;width: 100%;margin-bottom: 0;padding: 0.3em;box-sizing: border-box;text-align: center;}#sk-container-id-5 label.sk-toggleable__label-arrow:before {content: \"▸\";float: left;margin-right: 0.25em;color: #696969;}#sk-container-id-5 label.sk-toggleable__label-arrow:hover:before {color: black;}#sk-container-id-5 div.sk-estimator:hover label.sk-toggleable__label-arrow:before {color: black;}#sk-container-id-5 div.sk-toggleable__content {max-height: 0;max-width: 0;overflow: hidden;text-align: left;background-color: #f0f8ff;}#sk-container-id-5 div.sk-toggleable__content pre {margin: 0.2em;color: black;border-radius: 0.25em;background-color: #f0f8ff;}#sk-container-id-5 input.sk-toggleable__control:checked~div.sk-toggleable__content {max-height: 200px;max-width: 100%;overflow: auto;}#sk-container-id-5 input.sk-toggleable__control:checked~label.sk-toggleable__label-arrow:before {content: \"▾\";}#sk-container-id-5 div.sk-estimator input.sk-toggleable__control:checked~label.sk-toggleable__label {background-color: #d4ebff;}#sk-container-id-5 div.sk-label input.sk-toggleable__control:checked~label.sk-toggleable__label {background-color: #d4ebff;}#sk-container-id-5 input.sk-hidden--visually {border: 0;clip: rect(1px 1px 1px 1px);clip: rect(1px, 1px, 1px, 1px);height: 1px;margin: -1px;overflow: hidden;padding: 0;position: absolute;width: 1px;}#sk-container-id-5 div.sk-estimator {font-family: monospace;background-color: #f0f8ff;border: 1px dotted black;border-radius: 0.25em;box-sizing: border-box;margin-bottom: 0.5em;}#sk-container-id-5 div.sk-estimator:hover {background-color: #d4ebff;}#sk-container-id-5 div.sk-parallel-item::after {content: \"\";width: 100%;border-bottom: 1px solid gray;flex-grow: 1;}#sk-container-id-5 div.sk-label:hover label.sk-toggleable__label {background-color: #d4ebff;}#sk-container-id-5 div.sk-serial::before {content: \"\";position: absolute;border-left: 1px solid gray;box-sizing: border-box;top: 0;bottom: 0;left: 50%;z-index: 0;}#sk-container-id-5 div.sk-serial {display: flex;flex-direction: column;align-items: center;background-color: white;padding-right: 0.2em;padding-left: 0.2em;position: relative;}#sk-container-id-5 div.sk-item {position: relative;z-index: 1;}#sk-container-id-5 div.sk-parallel {display: flex;align-items: stretch;justify-content: center;background-color: white;position: relative;}#sk-container-id-5 div.sk-item::before, #sk-container-id-5 div.sk-parallel-item::before {content: \"\";position: absolute;border-left: 1px solid gray;box-sizing: border-box;top: 0;bottom: 0;left: 50%;z-index: -1;}#sk-container-id-5 div.sk-parallel-item {display: flex;flex-direction: column;z-index: 1;position: relative;background-color: white;}#sk-container-id-5 div.sk-parallel-item:first-child::after {align-self: flex-end;width: 50%;}#sk-container-id-5 div.sk-parallel-item:last-child::after {align-self: flex-start;width: 50%;}#sk-container-id-5 div.sk-parallel-item:only-child::after {width: 0;}#sk-container-id-5 div.sk-dashed-wrapped {border: 1px dashed gray;margin: 0 0.4em 0.5em 0.4em;box-sizing: border-box;padding-bottom: 0.4em;background-color: white;}#sk-container-id-5 div.sk-label label {font-family: monospace;font-weight: bold;display: inline-block;line-height: 1.2em;}#sk-container-id-5 div.sk-label-container {text-align: center;}#sk-container-id-5 div.sk-container {/* jupyter's `normalize.less` sets `[hidden] { display: none; }` but bootstrap.min.css set `[hidden] { display: none !important; }` so we also need the `!important` here to be able to override the default hidden behavior on the sphinx rendered scikit-learn.org. See: https://github.com/scikit-learn/scikit-learn/issues/21755 */display: inline-block !important;position: relative;}#sk-container-id-5 div.sk-text-repr-fallback {display: none;}</style><div id=\"sk-container-id-5\" class=\"sk-top-container\"><div class=\"sk-text-repr-fallback\"><pre>LassoCV(cv=5)</pre><b>In a Jupyter environment, please rerun this cell to show the HTML representation or trust the notebook. <br />On GitHub, the HTML representation is unable to render, please try loading this page with nbviewer.org.</b></div><div class=\"sk-container\" hidden><div class=\"sk-item\"><div class=\"sk-estimator sk-toggleable\"><input class=\"sk-toggleable__control sk-hidden--visually\" id=\"sk-estimator-id-9\" type=\"checkbox\" checked><label for=\"sk-estimator-id-9\" class=\"sk-toggleable__label sk-toggleable__label-arrow\">LassoCV</label><div class=\"sk-toggleable__content\"><pre>LassoCV(cv=5)</pre></div></div></div></div></div>"
      ],
      "text/plain": [
       "LassoCV(cv=5)"
      ]
     },
     "execution_count": 50,
     "metadata": {},
     "output_type": "execute_result"
    }
   ],
   "source": [
    "model_lassoCV = LassoCV(cv=5) # note we don't need to normalize again\n",
    "model_lassoCV.fit(scaler.transform(X_train), y_train) # note we transform X_train"
   ]
  },
  {
   "cell_type": "code",
   "execution_count": 51,
   "id": "ed2f1929",
   "metadata": {},
   "outputs": [],
   "source": [
    "y_hat_test = model_lassoCV.predict(scaler.transform((X_test))) "
   ]
  },
  {
   "cell_type": "code",
   "execution_count": 52,
   "id": "7566e5cd",
   "metadata": {},
   "outputs": [
    {
     "data": {
      "text/plain": [
       "0.8593243099119033"
      ]
     },
     "execution_count": 52,
     "metadata": {},
     "output_type": "execute_result"
    }
   ],
   "source": [
    "from sklearn import metrics\n",
    "metrics.mean_squared_error(y_true=y_test, y_pred=y_hat_test)"
   ]
  },
  {
   "cell_type": "code",
   "execution_count": null,
   "id": "00b1c973",
   "metadata": {},
   "outputs": [],
   "source": []
  }
 ],
 "metadata": {
  "kernelspec": {
   "display_name": "Python 3 (ipykernel)",
   "language": "python",
   "name": "python3"
  },
  "language_info": {
   "codemirror_mode": {
    "name": "ipython",
    "version": 3
   },
   "file_extension": ".py",
   "mimetype": "text/x-python",
   "name": "python",
   "nbconvert_exporter": "python",
   "pygments_lexer": "ipython3",
   "version": "3.9.7"
  }
 },
 "nbformat": 4,
 "nbformat_minor": 5
}
